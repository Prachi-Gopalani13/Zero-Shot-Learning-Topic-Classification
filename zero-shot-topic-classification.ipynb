{
 "cells": [
  {
   "cell_type": "markdown",
   "id": "ec4b19e0",
   "metadata": {
    "papermill": {
     "duration": 0.009759,
     "end_time": "2023-03-01T07:41:09.898526",
     "exception": false,
     "start_time": "2023-03-01T07:41:09.888767",
     "status": "completed"
    },
    "tags": []
   },
   "source": [
    "# <center>HuggingFace</center>\n",
    "<center><img src = https://miro.medium.com/max/576/1*7i5LhQ33_EdxMaPu3iteQg@2x.png></center>\n",
    "\n",
    "If you are interested in the field of NLP, chances are you've heard of HuggingFace Transformers. As their [GitHub page](https://github.com/huggingface/transformers) says, they provide **State-of-the-art Natural Language Processing for PyTorch and TensorFlow 2.0**\n",
    "\n",
    "[Recently](https://discuss.huggingface.co/t/new-pipeline-for-zero-shot-text-classification/681), they included support for zero-shot-classification. I am going to use this Zero-Shot Classification Pipeline for multi-class classification on the Arxiv Dataset."
   ]
  },
  {
   "cell_type": "markdown",
   "id": "e2ba95c3",
   "metadata": {
    "papermill": {
     "duration": 0.007974,
     "end_time": "2023-03-01T07:41:09.915197",
     "exception": false,
     "start_time": "2023-03-01T07:41:09.907223",
     "status": "completed"
    },
    "tags": []
   },
   "source": [
    "<center><h1>Introduction to Zero Shot Learning</h1></center>\n",
    "<br>\n",
    "Zero-shot learning is a problem setup in machine learning, where at test time, a learner observes samples from classes that were not observed during training, and needs to predict the category they belong to. This problem is widely studied in computer vision, natural language processing and machine perception.\n",
    "\n",
    "Quite simply put, zero-shot classification refers to the class of machine learning problems where we want our models to predict output for classes which it did not encounter during training time. "
   ]
  },
  {
   "cell_type": "markdown",
   "id": "cd0c182e",
   "metadata": {
    "papermill": {
     "duration": 0.008364,
     "end_time": "2023-03-01T07:41:09.932027",
     "exception": false,
     "start_time": "2023-03-01T07:41:09.923663",
     "status": "completed"
    },
    "tags": []
   },
   "source": [
    "![Zero Shot Learning](https://amitness.com/images/zero-shot-vs-transfer.png)\n"
   ]
  },
  {
   "cell_type": "markdown",
   "id": "e367b4a7",
   "metadata": {
    "papermill": {
     "duration": 0.008192,
     "end_time": "2023-03-01T07:41:09.949594",
     "exception": false,
     "start_time": "2023-03-01T07:41:09.941402",
     "status": "completed"
    },
    "tags": []
   },
   "source": [
    "For Traditional Supervised Learning, we get some data we want to recognise and these data live in a feature space. Annotations for the data will be provided and that gives us some labels in that feature space.\n",
    "\n",
    "\n",
    "<center><h4>I will be using the HuggingFace Python package for Text Classification task for this Netflix dataset. I'm just a beginner with this so please feel free to comment if I can do something better.</h4></center>\n"
   ]
  },
  {
   "cell_type": "markdown",
   "id": "aa277f37",
   "metadata": {
    "papermill": {
     "duration": 0.008012,
     "end_time": "2023-03-01T07:41:09.966254",
     "exception": false,
     "start_time": "2023-03-01T07:41:09.958242",
     "status": "completed"
    },
    "tags": []
   },
   "source": [
    "# Importing Libraries\n"
   ]
  },
  {
   "cell_type": "code",
   "execution_count": 1,
   "id": "852015b1",
   "metadata": {
    "execution": {
     "iopub.execute_input": "2023-03-01T07:41:09.987093Z",
     "iopub.status.busy": "2023-03-01T07:41:09.985319Z",
     "iopub.status.idle": "2023-03-01T07:41:26.675658Z",
     "shell.execute_reply": "2023-03-01T07:41:26.673818Z"
    },
    "papermill": {
     "duration": 16.704489,
     "end_time": "2023-03-01T07:41:26.679278",
     "exception": false,
     "start_time": "2023-03-01T07:41:09.974789",
     "status": "completed"
    },
    "tags": []
   },
   "outputs": [],
   "source": [
    "# Install all necessary libraries\n",
    "\n",
    "import pandas as pd\n",
    "import numpy as np\n",
    "import os\n",
    "import pandas as pd\n",
    "import warnings\n",
    "import sys\n",
    "from transformers import pipeline\n",
    "\n",
    "pd.set_option('display.max_colwidth', None)\n",
    "warnings.filterwarnings(\"ignore\")\n"
   ]
  },
  {
   "cell_type": "markdown",
   "id": "992f5287",
   "metadata": {
    "papermill": {
     "duration": 0.008133,
     "end_time": "2023-03-01T07:41:26.696230",
     "exception": false,
     "start_time": "2023-03-01T07:41:26.688097",
     "status": "completed"
    },
    "tags": []
   },
   "source": [
    "# Processing the Data\n"
   ]
  },
  {
   "cell_type": "code",
   "execution_count": 2,
   "id": "325976fa",
   "metadata": {
    "execution": {
     "iopub.execute_input": "2023-03-01T07:41:26.717688Z",
     "iopub.status.busy": "2023-03-01T07:41:26.716690Z",
     "iopub.status.idle": "2023-03-01T07:41:26.885442Z",
     "shell.execute_reply": "2023-03-01T07:41:26.884070Z"
    },
    "papermill": {
     "duration": 0.18244,
     "end_time": "2023-03-01T07:41:26.888578",
     "exception": false,
     "start_time": "2023-03-01T07:41:26.706138",
     "status": "completed"
    },
    "tags": []
   },
   "outputs": [
    {
     "data": {
      "text/html": [
       "<div>\n",
       "<style scoped>\n",
       "    .dataframe tbody tr th:only-of-type {\n",
       "        vertical-align: middle;\n",
       "    }\n",
       "\n",
       "    .dataframe tbody tr th {\n",
       "        vertical-align: top;\n",
       "    }\n",
       "\n",
       "    .dataframe thead th {\n",
       "        text-align: right;\n",
       "    }\n",
       "</style>\n",
       "<table border=\"1\" class=\"dataframe\">\n",
       "  <thead>\n",
       "    <tr style=\"text-align: right;\">\n",
       "      <th></th>\n",
       "      <th>show_id</th>\n",
       "      <th>type</th>\n",
       "      <th>title</th>\n",
       "      <th>director</th>\n",
       "      <th>cast</th>\n",
       "      <th>country</th>\n",
       "      <th>date_added</th>\n",
       "      <th>release_year</th>\n",
       "      <th>rating</th>\n",
       "      <th>duration</th>\n",
       "      <th>listed_in</th>\n",
       "      <th>description</th>\n",
       "    </tr>\n",
       "  </thead>\n",
       "  <tbody>\n",
       "    <tr>\n",
       "      <th>0</th>\n",
       "      <td>s1</td>\n",
       "      <td>Movie</td>\n",
       "      <td>Dick Johnson Is Dead</td>\n",
       "      <td>Kirsten Johnson</td>\n",
       "      <td>NaN</td>\n",
       "      <td>United States</td>\n",
       "      <td>September 25, 2021</td>\n",
       "      <td>2020</td>\n",
       "      <td>PG-13</td>\n",
       "      <td>90 min</td>\n",
       "      <td>Documentaries</td>\n",
       "      <td>As her father nears the end of his life, filmmaker Kirsten Johnson stages his death in inventive and comical ways to help them both face the inevitable.</td>\n",
       "    </tr>\n",
       "    <tr>\n",
       "      <th>1</th>\n",
       "      <td>s2</td>\n",
       "      <td>TV Show</td>\n",
       "      <td>Blood &amp; Water</td>\n",
       "      <td>NaN</td>\n",
       "      <td>Ama Qamata, Khosi Ngema, Gail Mabalane, Thabang Molaba, Dillon Windvogel, Natasha Thahane, Arno Greeff, Xolile Tshabalala, Getmore Sithole, Cindy Mahlangu, Ryle De Morny, Greteli Fincham, Sello Maake Ka-Ncube, Odwa Gwanya, Mekaila Mathys, Sandi Schultz, Duane Williams, Shamilla Miller, Patrick Mofokeng</td>\n",
       "      <td>South Africa</td>\n",
       "      <td>September 24, 2021</td>\n",
       "      <td>2021</td>\n",
       "      <td>TV-MA</td>\n",
       "      <td>2 Seasons</td>\n",
       "      <td>International TV Shows, TV Dramas, TV Mysteries</td>\n",
       "      <td>After crossing paths at a party, a Cape Town teen sets out to prove whether a private-school swimming star is her sister who was abducted at birth.</td>\n",
       "    </tr>\n",
       "  </tbody>\n",
       "</table>\n",
       "</div>"
      ],
      "text/plain": [
       "  show_id     type                 title         director  \\\n",
       "0      s1    Movie  Dick Johnson Is Dead  Kirsten Johnson   \n",
       "1      s2  TV Show         Blood & Water              NaN   \n",
       "\n",
       "                                                                                                                                                                                                                                                                                                              cast  \\\n",
       "0                                                                                                                                                                                                                                                                                                              NaN   \n",
       "1  Ama Qamata, Khosi Ngema, Gail Mabalane, Thabang Molaba, Dillon Windvogel, Natasha Thahane, Arno Greeff, Xolile Tshabalala, Getmore Sithole, Cindy Mahlangu, Ryle De Morny, Greteli Fincham, Sello Maake Ka-Ncube, Odwa Gwanya, Mekaila Mathys, Sandi Schultz, Duane Williams, Shamilla Miller, Patrick Mofokeng   \n",
       "\n",
       "         country          date_added  release_year rating   duration  \\\n",
       "0  United States  September 25, 2021          2020  PG-13     90 min   \n",
       "1   South Africa  September 24, 2021          2021  TV-MA  2 Seasons   \n",
       "\n",
       "                                         listed_in  \\\n",
       "0                                    Documentaries   \n",
       "1  International TV Shows, TV Dramas, TV Mysteries   \n",
       "\n",
       "                                                                                                                                                description  \n",
       "0  As her father nears the end of his life, filmmaker Kirsten Johnson stages his death in inventive and comical ways to help them both face the inevitable.  \n",
       "1       After crossing paths at a party, a Cape Town teen sets out to prove whether a private-school swimming star is her sister who was abducted at birth.  "
      ]
     },
     "execution_count": 2,
     "metadata": {},
     "output_type": "execute_result"
    }
   ],
   "source": [
    "df = pd.read_csv(\"/kaggle/input/dataset-netflix-shows/netflix_titles.csv\")\n",
    "df.head(2)"
   ]
  },
  {
   "cell_type": "code",
   "execution_count": 3,
   "id": "1ae37f59",
   "metadata": {
    "execution": {
     "iopub.execute_input": "2023-03-01T07:41:26.909472Z",
     "iopub.status.busy": "2023-03-01T07:41:26.908131Z",
     "iopub.status.idle": "2023-03-01T07:41:26.981636Z",
     "shell.execute_reply": "2023-03-01T07:41:26.980201Z"
    },
    "papermill": {
     "duration": 0.087513,
     "end_time": "2023-03-01T07:41:26.985052",
     "exception": false,
     "start_time": "2023-03-01T07:41:26.897539",
     "status": "completed"
    },
    "tags": []
   },
   "outputs": [
    {
     "data": {
      "text/html": [
       "<div>\n",
       "<style scoped>\n",
       "    .dataframe tbody tr th:only-of-type {\n",
       "        vertical-align: middle;\n",
       "    }\n",
       "\n",
       "    .dataframe tbody tr th {\n",
       "        vertical-align: top;\n",
       "    }\n",
       "\n",
       "    .dataframe thead th {\n",
       "        text-align: right;\n",
       "    }\n",
       "</style>\n",
       "<table border=\"1\" class=\"dataframe\">\n",
       "  <thead>\n",
       "    <tr style=\"text-align: right;\">\n",
       "      <th></th>\n",
       "      <th>listed_in</th>\n",
       "      <th>description</th>\n",
       "      <th>text_length</th>\n",
       "    </tr>\n",
       "  </thead>\n",
       "  <tbody>\n",
       "    <tr>\n",
       "      <th>4948</th>\n",
       "      <td>Dramas, International Movies</td>\n",
       "      <td>An Indian village is abuzz with news that a major movie star is coming to town – even more so because the town barber went to school with him. But as the day of the actor's visit approaches, the humble barber begins to worry he won't be recognized.</td>\n",
       "      <td>48</td>\n",
       "    </tr>\n",
       "    <tr>\n",
       "      <th>6221</th>\n",
       "      <td>Children &amp; Family Movies</td>\n",
       "      <td>Half-dog, half-wolf Balto (voiced by Maurice LaMarche) and his wife proudly put their pups up for adoption to humans, but when nobody takes daughter Aleu because she looks too much like a wolf, she runs away to search for her place in the world.</td>\n",
       "      <td>44</td>\n",
       "    </tr>\n",
       "    <tr>\n",
       "      <th>215</th>\n",
       "      <td>Action &amp; Adventure, Dramas, International Movies</td>\n",
       "      <td>Based on a true story, this action film follows an incident that stunned a nation in the early 1990s. In Mumbai, India, the notorious gangster Maya holds off veteran cop Khan and a force of more than 200 policemen in a six-hour bloody gunfight.</td>\n",
       "      <td>44</td>\n",
       "    </tr>\n",
       "    <tr>\n",
       "      <th>593</th>\n",
       "      <td>Children &amp; Family Movies, Comedies</td>\n",
       "      <td>When a snow day shuts down the whole town, the Wheeler family cuts loose. Hal makes a play for the most popular girl in his school, 10-year-old Natalie takes on the dreaded snowplow man, and Dad gets into a showdown with a rival meteorologist.</td>\n",
       "      <td>44</td>\n",
       "    </tr>\n",
       "    <tr>\n",
       "      <th>5990</th>\n",
       "      <td>Action &amp; Adventure, International Movies</td>\n",
       "      <td>In the age of the Ming Dynasty, Quinglong is the best of the Jinyiwei, an elite assassin squad made up of highly trained former street urchins. When evil eunuch Jia unseats the emperor, Quinglong is called to action but is quickly betrayed.</td>\n",
       "      <td>42</td>\n",
       "    </tr>\n",
       "  </tbody>\n",
       "</table>\n",
       "</div>"
      ],
      "text/plain": [
       "                                             listed_in  \\\n",
       "4948                      Dramas, International Movies   \n",
       "6221                          Children & Family Movies   \n",
       "215   Action & Adventure, Dramas, International Movies   \n",
       "593                 Children & Family Movies, Comedies   \n",
       "5990          Action & Adventure, International Movies   \n",
       "\n",
       "                                                                                                                                                                                                                                                   description  \\\n",
       "4948  An Indian village is abuzz with news that a major movie star is coming to town – even more so because the town barber went to school with him. But as the day of the actor's visit approaches, the humble barber begins to worry he won't be recognized.   \n",
       "6221     Half-dog, half-wolf Balto (voiced by Maurice LaMarche) and his wife proudly put their pups up for adoption to humans, but when nobody takes daughter Aleu because she looks too much like a wolf, she runs away to search for her place in the world.   \n",
       "215       Based on a true story, this action film follows an incident that stunned a nation in the early 1990s. In Mumbai, India, the notorious gangster Maya holds off veteran cop Khan and a force of more than 200 policemen in a six-hour bloody gunfight.   \n",
       "593        When a snow day shuts down the whole town, the Wheeler family cuts loose. Hal makes a play for the most popular girl in his school, 10-year-old Natalie takes on the dreaded snowplow man, and Dad gets into a showdown with a rival meteorologist.   \n",
       "5990          In the age of the Ming Dynasty, Quinglong is the best of the Jinyiwei, an elite assassin squad made up of highly trained former street urchins. When evil eunuch Jia unseats the emperor, Quinglong is called to action but is quickly betrayed.   \n",
       "\n",
       "      text_length  \n",
       "4948           48  \n",
       "6221           44  \n",
       "215            44  \n",
       "593            44  \n",
       "5990           42  "
      ]
     },
     "execution_count": 3,
     "metadata": {},
     "output_type": "execute_result"
    }
   ],
   "source": [
    "# Select the 2 columns we need\n",
    "df = df[['listed_in', 'description']]\n",
    "# Split the text and get the length thereafter\n",
    "df['text_length'] = df['description'].str.split().str.len()\n",
    "# Sort the new dataframe by the text length\n",
    "df2 = df.sort_values(by = ['text_length'], ascending = False)\n",
    "df2.head()"
   ]
  },
  {
   "cell_type": "code",
   "execution_count": 4,
   "id": "dd68d994",
   "metadata": {
    "execution": {
     "iopub.execute_input": "2023-03-01T07:41:27.007306Z",
     "iopub.status.busy": "2023-03-01T07:41:27.005845Z",
     "iopub.status.idle": "2023-03-01T07:41:27.029927Z",
     "shell.execute_reply": "2023-03-01T07:41:27.028475Z"
    },
    "papermill": {
     "duration": 0.038406,
     "end_time": "2023-03-01T07:41:27.033036",
     "exception": false,
     "start_time": "2023-03-01T07:41:26.994630",
     "status": "completed"
    },
    "tags": []
   },
   "outputs": [
    {
     "data": {
      "text/html": [
       "<div>\n",
       "<style scoped>\n",
       "    .dataframe tbody tr th:only-of-type {\n",
       "        vertical-align: middle;\n",
       "    }\n",
       "\n",
       "    .dataframe tbody tr th {\n",
       "        vertical-align: top;\n",
       "    }\n",
       "\n",
       "    .dataframe thead th {\n",
       "        text-align: right;\n",
       "    }\n",
       "</style>\n",
       "<table border=\"1\" class=\"dataframe\">\n",
       "  <thead>\n",
       "    <tr style=\"text-align: right;\">\n",
       "      <th></th>\n",
       "      <th>listed_in</th>\n",
       "      <th>description</th>\n",
       "      <th>text_length</th>\n",
       "    </tr>\n",
       "  </thead>\n",
       "  <tbody>\n",
       "    <tr>\n",
       "      <th>0</th>\n",
       "      <td>Dramas, International Movies</td>\n",
       "      <td>An Indian village is abuzz with news that a major movie star is coming to town – even more so because the town barber went to school with him. But as the day of the actor's visit approaches, the humble barber begins to worry he won't be recognized.</td>\n",
       "      <td>48</td>\n",
       "    </tr>\n",
       "    <tr>\n",
       "      <th>1</th>\n",
       "      <td>Children &amp; Family Movies</td>\n",
       "      <td>Half-dog, half-wolf Balto (voiced by Maurice LaMarche) and his wife proudly put their pups up for adoption to humans, but when nobody takes daughter Aleu because she looks too much like a wolf, she runs away to search for her place in the world.</td>\n",
       "      <td>44</td>\n",
       "    </tr>\n",
       "    <tr>\n",
       "      <th>2</th>\n",
       "      <td>Action &amp; Adventure, Dramas, International Movies</td>\n",
       "      <td>Based on a true story, this action film follows an incident that stunned a nation in the early 1990s. In Mumbai, India, the notorious gangster Maya holds off veteran cop Khan and a force of more than 200 policemen in a six-hour bloody gunfight.</td>\n",
       "      <td>44</td>\n",
       "    </tr>\n",
       "    <tr>\n",
       "      <th>3</th>\n",
       "      <td>Children &amp; Family Movies, Comedies</td>\n",
       "      <td>When a snow day shuts down the whole town, the Wheeler family cuts loose. Hal makes a play for the most popular girl in his school, 10-year-old Natalie takes on the dreaded snowplow man, and Dad gets into a showdown with a rival meteorologist.</td>\n",
       "      <td>44</td>\n",
       "    </tr>\n",
       "    <tr>\n",
       "      <th>4</th>\n",
       "      <td>Action &amp; Adventure, International Movies</td>\n",
       "      <td>In the age of the Ming Dynasty, Quinglong is the best of the Jinyiwei, an elite assassin squad made up of highly trained former street urchins. When evil eunuch Jia unseats the emperor, Quinglong is called to action but is quickly betrayed.</td>\n",
       "      <td>42</td>\n",
       "    </tr>\n",
       "    <tr>\n",
       "      <th>5</th>\n",
       "      <td>Action &amp; Adventure, International Movies</td>\n",
       "      <td>Leader of the Ten Kwangtung Tigers, Tieh Chiao-san works with his kung fu students to protect his village from crime. But when an opium dealer starts to ruin the town, Tieh Chiao-san struggles to fight back, thanks to his growing opium addiction.</td>\n",
       "      <td>42</td>\n",
       "    </tr>\n",
       "    <tr>\n",
       "      <th>6</th>\n",
       "      <td>Dramas</td>\n",
       "      <td>After one of his high school students attacks him, dedicated teacher Trevor Garfield grows weary of the gang warfare in the New York City school system and moves to California to teach there, thinking it must be a less hostile environment.</td>\n",
       "      <td>41</td>\n",
       "    </tr>\n",
       "    <tr>\n",
       "      <th>7</th>\n",
       "      <td>Action &amp; Adventure, Anime Features, Sci-Fi &amp; Fantasy</td>\n",
       "      <td>When a group of vicious Sinners plots to escape from this eternal prison in Hell, they discover that Substitute Soul Reaper Ichigo is the key to their freedom. The Sinners launch an attack and in the process kidnap Ichigo's younger sister.</td>\n",
       "      <td>41</td>\n",
       "    </tr>\n",
       "    <tr>\n",
       "      <th>8</th>\n",
       "      <td>Action &amp; Adventure, Comedies, Dramas</td>\n",
       "      <td>Paul Newman proves he's still got prodigious acting chops, playing an aging bank robber who may have one last job in him. Faking a stroke, the incarcerated Newman is transferred to a nursing home and the care of a skeptical nurse.</td>\n",
       "      <td>41</td>\n",
       "    </tr>\n",
       "  </tbody>\n",
       "</table>\n",
       "</div>"
      ],
      "text/plain": [
       "                                              listed_in  \\\n",
       "0                          Dramas, International Movies   \n",
       "1                              Children & Family Movies   \n",
       "2      Action & Adventure, Dramas, International Movies   \n",
       "3                    Children & Family Movies, Comedies   \n",
       "4              Action & Adventure, International Movies   \n",
       "5              Action & Adventure, International Movies   \n",
       "6                                                Dramas   \n",
       "7  Action & Adventure, Anime Features, Sci-Fi & Fantasy   \n",
       "8                  Action & Adventure, Comedies, Dramas   \n",
       "\n",
       "                                                                                                                                                                                                                                                description  \\\n",
       "0  An Indian village is abuzz with news that a major movie star is coming to town – even more so because the town barber went to school with him. But as the day of the actor's visit approaches, the humble barber begins to worry he won't be recognized.   \n",
       "1     Half-dog, half-wolf Balto (voiced by Maurice LaMarche) and his wife proudly put their pups up for adoption to humans, but when nobody takes daughter Aleu because she looks too much like a wolf, she runs away to search for her place in the world.   \n",
       "2      Based on a true story, this action film follows an incident that stunned a nation in the early 1990s. In Mumbai, India, the notorious gangster Maya holds off veteran cop Khan and a force of more than 200 policemen in a six-hour bloody gunfight.   \n",
       "3       When a snow day shuts down the whole town, the Wheeler family cuts loose. Hal makes a play for the most popular girl in his school, 10-year-old Natalie takes on the dreaded snowplow man, and Dad gets into a showdown with a rival meteorologist.   \n",
       "4          In the age of the Ming Dynasty, Quinglong is the best of the Jinyiwei, an elite assassin squad made up of highly trained former street urchins. When evil eunuch Jia unseats the emperor, Quinglong is called to action but is quickly betrayed.   \n",
       "5    Leader of the Ten Kwangtung Tigers, Tieh Chiao-san works with his kung fu students to protect his village from crime. But when an opium dealer starts to ruin the town, Tieh Chiao-san struggles to fight back, thanks to his growing opium addiction.   \n",
       "6           After one of his high school students attacks him, dedicated teacher Trevor Garfield grows weary of the gang warfare in the New York City school system and moves to California to teach there, thinking it must be a less hostile environment.   \n",
       "7           When a group of vicious Sinners plots to escape from this eternal prison in Hell, they discover that Substitute Soul Reaper Ichigo is the key to their freedom. The Sinners launch an attack and in the process kidnap Ichigo's younger sister.   \n",
       "8                    Paul Newman proves he's still got prodigious acting chops, playing an aging bank robber who may have one last job in him. Faking a stroke, the incarcerated Newman is transferred to a nursing home and the care of a skeptical nurse.   \n",
       "\n",
       "   text_length  \n",
       "0           48  \n",
       "1           44  \n",
       "2           44  \n",
       "3           44  \n",
       "4           42  \n",
       "5           42  \n",
       "6           41  \n",
       "7           41  \n",
       "8           41  "
      ]
     },
     "execution_count": 4,
     "metadata": {},
     "output_type": "execute_result"
    }
   ],
   "source": [
    "# Create a new DF that has only products with more than text length of 40\n",
    "df2 = df2[df2['text_length']>40]\n",
    "# Reset the index of the new DF\n",
    "df2 = df2.reset_index(drop = True)\n",
    "df2"
   ]
  },
  {
   "cell_type": "code",
   "execution_count": 5,
   "id": "dd1d90aa",
   "metadata": {
    "execution": {
     "iopub.execute_input": "2023-03-01T07:41:27.055504Z",
     "iopub.status.busy": "2023-03-01T07:41:27.054589Z",
     "iopub.status.idle": "2023-03-01T07:41:27.063473Z",
     "shell.execute_reply": "2023-03-01T07:41:27.061978Z"
    },
    "papermill": {
     "duration": 0.023794,
     "end_time": "2023-03-01T07:41:27.066746",
     "exception": false,
     "start_time": "2023-03-01T07:41:27.042952",
     "status": "completed"
    },
    "tags": []
   },
   "outputs": [
    {
     "name": "stdout",
     "output_type": "stream",
     "text": [
      "Number of Unique Categories  8 {'Action & Adventure', 'Children & Family Movies', ' Comedies', ' Anime Features', ' Sci-Fi & Fantasy', 'Dramas', ' International Movies', ' Dramas'}\n"
     ]
    }
   ],
   "source": [
    "all_categories=\",\".join([cat for cat in df2['listed_in']])\n",
    "\n",
    "unique_categories=set(all_categories.split(\",\"))\n",
    "unique_categories\n",
    "print(\"Number of Unique Categories \",len(unique_categories), unique_categories)"
   ]
  },
  {
   "cell_type": "code",
   "execution_count": 6,
   "id": "d7dc5c74",
   "metadata": {
    "execution": {
     "iopub.execute_input": "2023-03-01T07:41:27.089202Z",
     "iopub.status.busy": "2023-03-01T07:41:27.087972Z",
     "iopub.status.idle": "2023-03-01T07:41:27.094706Z",
     "shell.execute_reply": "2023-03-01T07:41:27.093152Z"
    },
    "papermill": {
     "duration": 0.021541,
     "end_time": "2023-03-01T07:41:27.098067",
     "exception": false,
     "start_time": "2023-03-01T07:41:27.076526",
     "status": "completed"
    },
    "tags": []
   },
   "outputs": [],
   "source": [
    "def isCategory(aspectCategory,category):\n",
    "    if category in aspectCategory:\n",
    "        return 1\n",
    "    else:\n",
    "        return 0"
   ]
  },
  {
   "cell_type": "code",
   "execution_count": 7,
   "id": "a40f4b70",
   "metadata": {
    "execution": {
     "iopub.execute_input": "2023-03-01T07:41:27.119795Z",
     "iopub.status.busy": "2023-03-01T07:41:27.119306Z",
     "iopub.status.idle": "2023-03-01T07:41:27.141736Z",
     "shell.execute_reply": "2023-03-01T07:41:27.140391Z"
    },
    "papermill": {
     "duration": 0.036843,
     "end_time": "2023-03-01T07:41:27.144508",
     "exception": false,
     "start_time": "2023-03-01T07:41:27.107665",
     "status": "completed"
    },
    "tags": []
   },
   "outputs": [
    {
     "data": {
      "text/html": [
       "<div>\n",
       "<style scoped>\n",
       "    .dataframe tbody tr th:only-of-type {\n",
       "        vertical-align: middle;\n",
       "    }\n",
       "\n",
       "    .dataframe tbody tr th {\n",
       "        vertical-align: top;\n",
       "    }\n",
       "\n",
       "    .dataframe thead th {\n",
       "        text-align: right;\n",
       "    }\n",
       "</style>\n",
       "<table border=\"1\" class=\"dataframe\">\n",
       "  <thead>\n",
       "    <tr style=\"text-align: right;\">\n",
       "      <th></th>\n",
       "      <th>listed_in</th>\n",
       "      <th>description</th>\n",
       "      <th>text_length</th>\n",
       "      <th>Action &amp; Adventure</th>\n",
       "      <th>Children &amp; Family Movies</th>\n",
       "      <th>Comedies</th>\n",
       "      <th>Anime Features</th>\n",
       "      <th>Sci-Fi &amp; Fantasy</th>\n",
       "      <th>Dramas</th>\n",
       "      <th>International Movies</th>\n",
       "      <th>Dramas</th>\n",
       "    </tr>\n",
       "  </thead>\n",
       "  <tbody>\n",
       "    <tr>\n",
       "      <th>0</th>\n",
       "      <td>Dramas, International Movies</td>\n",
       "      <td>An Indian village is abuzz with news that a major movie star is coming to town – even more so because the town barber went to school with him. But as the day of the actor's visit approaches, the humble barber begins to worry he won't be recognized.</td>\n",
       "      <td>48</td>\n",
       "      <td>0</td>\n",
       "      <td>0</td>\n",
       "      <td>0</td>\n",
       "      <td>0</td>\n",
       "      <td>0</td>\n",
       "      <td>1</td>\n",
       "      <td>1</td>\n",
       "      <td>0</td>\n",
       "    </tr>\n",
       "    <tr>\n",
       "      <th>1</th>\n",
       "      <td>Children &amp; Family Movies</td>\n",
       "      <td>Half-dog, half-wolf Balto (voiced by Maurice LaMarche) and his wife proudly put their pups up for adoption to humans, but when nobody takes daughter Aleu because she looks too much like a wolf, she runs away to search for her place in the world.</td>\n",
       "      <td>44</td>\n",
       "      <td>0</td>\n",
       "      <td>1</td>\n",
       "      <td>0</td>\n",
       "      <td>0</td>\n",
       "      <td>0</td>\n",
       "      <td>0</td>\n",
       "      <td>0</td>\n",
       "      <td>0</td>\n",
       "    </tr>\n",
       "    <tr>\n",
       "      <th>2</th>\n",
       "      <td>Action &amp; Adventure, Dramas, International Movies</td>\n",
       "      <td>Based on a true story, this action film follows an incident that stunned a nation in the early 1990s. In Mumbai, India, the notorious gangster Maya holds off veteran cop Khan and a force of more than 200 policemen in a six-hour bloody gunfight.</td>\n",
       "      <td>44</td>\n",
       "      <td>1</td>\n",
       "      <td>0</td>\n",
       "      <td>0</td>\n",
       "      <td>0</td>\n",
       "      <td>0</td>\n",
       "      <td>1</td>\n",
       "      <td>1</td>\n",
       "      <td>1</td>\n",
       "    </tr>\n",
       "    <tr>\n",
       "      <th>3</th>\n",
       "      <td>Children &amp; Family Movies, Comedies</td>\n",
       "      <td>When a snow day shuts down the whole town, the Wheeler family cuts loose. Hal makes a play for the most popular girl in his school, 10-year-old Natalie takes on the dreaded snowplow man, and Dad gets into a showdown with a rival meteorologist.</td>\n",
       "      <td>44</td>\n",
       "      <td>0</td>\n",
       "      <td>1</td>\n",
       "      <td>1</td>\n",
       "      <td>0</td>\n",
       "      <td>0</td>\n",
       "      <td>0</td>\n",
       "      <td>0</td>\n",
       "      <td>0</td>\n",
       "    </tr>\n",
       "    <tr>\n",
       "      <th>4</th>\n",
       "      <td>Action &amp; Adventure, International Movies</td>\n",
       "      <td>In the age of the Ming Dynasty, Quinglong is the best of the Jinyiwei, an elite assassin squad made up of highly trained former street urchins. When evil eunuch Jia unseats the emperor, Quinglong is called to action but is quickly betrayed.</td>\n",
       "      <td>42</td>\n",
       "      <td>1</td>\n",
       "      <td>0</td>\n",
       "      <td>0</td>\n",
       "      <td>0</td>\n",
       "      <td>0</td>\n",
       "      <td>0</td>\n",
       "      <td>1</td>\n",
       "      <td>0</td>\n",
       "    </tr>\n",
       "  </tbody>\n",
       "</table>\n",
       "</div>"
      ],
      "text/plain": [
       "                                          listed_in  \\\n",
       "0                      Dramas, International Movies   \n",
       "1                          Children & Family Movies   \n",
       "2  Action & Adventure, Dramas, International Movies   \n",
       "3                Children & Family Movies, Comedies   \n",
       "4          Action & Adventure, International Movies   \n",
       "\n",
       "                                                                                                                                                                                                                                                description  \\\n",
       "0  An Indian village is abuzz with news that a major movie star is coming to town – even more so because the town barber went to school with him. But as the day of the actor's visit approaches, the humble barber begins to worry he won't be recognized.   \n",
       "1     Half-dog, half-wolf Balto (voiced by Maurice LaMarche) and his wife proudly put their pups up for adoption to humans, but when nobody takes daughter Aleu because she looks too much like a wolf, she runs away to search for her place in the world.   \n",
       "2      Based on a true story, this action film follows an incident that stunned a nation in the early 1990s. In Mumbai, India, the notorious gangster Maya holds off veteran cop Khan and a force of more than 200 policemen in a six-hour bloody gunfight.   \n",
       "3       When a snow day shuts down the whole town, the Wheeler family cuts loose. Hal makes a play for the most popular girl in his school, 10-year-old Natalie takes on the dreaded snowplow man, and Dad gets into a showdown with a rival meteorologist.   \n",
       "4          In the age of the Ming Dynasty, Quinglong is the best of the Jinyiwei, an elite assassin squad made up of highly trained former street urchins. When evil eunuch Jia unseats the emperor, Quinglong is called to action but is quickly betrayed.   \n",
       "\n",
       "   text_length  Action & Adventure  Children & Family Movies   Comedies  \\\n",
       "0           48                   0                         0          0   \n",
       "1           44                   0                         1          0   \n",
       "2           44                   1                         0          0   \n",
       "3           44                   0                         1          1   \n",
       "4           42                   1                         0          0   \n",
       "\n",
       "    Anime Features   Sci-Fi & Fantasy  Dramas   International Movies   Dramas  \n",
       "0                0                  0       1                      1        0  \n",
       "1                0                  0       0                      0        0  \n",
       "2                0                  0       1                      1        1  \n",
       "3                0                  0       0                      0        0  \n",
       "4                0                  0       0                      1        0  "
      ]
     },
     "execution_count": 7,
     "metadata": {},
     "output_type": "execute_result"
    }
   ],
   "source": [
    "for cat in unique_categories:\n",
    "    df2[cat]= df2['listed_in'].apply(lambda x:isCategory(x,cat))\n",
    "\n",
    "df2.head()"
   ]
  },
  {
   "cell_type": "markdown",
   "id": "27d63356",
   "metadata": {
    "papermill": {
     "duration": 0.010217,
     "end_time": "2023-03-01T07:41:27.164697",
     "exception": false,
     "start_time": "2023-03-01T07:41:27.154480",
     "status": "completed"
    },
    "tags": []
   },
   "source": [
    "# Code Implementation"
   ]
  },
  {
   "cell_type": "code",
   "execution_count": 8,
   "id": "7d5c8686",
   "metadata": {
    "execution": {
     "iopub.execute_input": "2023-03-01T07:41:27.189313Z",
     "iopub.status.busy": "2023-03-01T07:41:27.188717Z",
     "iopub.status.idle": "2023-03-01T07:43:02.765310Z",
     "shell.execute_reply": "2023-03-01T07:43:02.763554Z"
    },
    "papermill": {
     "duration": 95.592601,
     "end_time": "2023-03-01T07:43:02.768577",
     "exception": false,
     "start_time": "2023-03-01T07:41:27.175976",
     "status": "completed"
    },
    "tags": []
   },
   "outputs": [
    {
     "data": {
      "application/vnd.jupyter.widget-view+json": {
       "model_id": "a2493aedd11148cb833da6fab732b3ef",
       "version_major": 2,
       "version_minor": 0
      },
      "text/plain": [
       "Downloading (…)lve/main/config.json:   0%|          | 0.00/1.15k [00:00<?, ?B/s]"
      ]
     },
     "metadata": {},
     "output_type": "display_data"
    },
    {
     "data": {
      "application/vnd.jupyter.widget-view+json": {
       "model_id": "c23203b8b4a34551887b5c40494b2b1b",
       "version_major": 2,
       "version_minor": 0
      },
      "text/plain": [
       "Downloading (…)\"pytorch_model.bin\";:   0%|          | 0.00/1.63G [00:00<?, ?B/s]"
      ]
     },
     "metadata": {},
     "output_type": "display_data"
    },
    {
     "data": {
      "application/vnd.jupyter.widget-view+json": {
       "model_id": "b48d693edb624792962084a94a5abd7e",
       "version_major": 2,
       "version_minor": 0
      },
      "text/plain": [
       "Downloading (…)okenizer_config.json:   0%|          | 0.00/26.0 [00:00<?, ?B/s]"
      ]
     },
     "metadata": {},
     "output_type": "display_data"
    },
    {
     "data": {
      "application/vnd.jupyter.widget-view+json": {
       "model_id": "b9acbe20b1dc44698f031db94ba0b617",
       "version_major": 2,
       "version_minor": 0
      },
      "text/plain": [
       "Downloading (…)olve/main/vocab.json:   0%|          | 0.00/899k [00:00<?, ?B/s]"
      ]
     },
     "metadata": {},
     "output_type": "display_data"
    },
    {
     "data": {
      "application/vnd.jupyter.widget-view+json": {
       "model_id": "85c3c441878d4586b9fe5e38d7e3c2dc",
       "version_major": 2,
       "version_minor": 0
      },
      "text/plain": [
       "Downloading (…)olve/main/merges.txt:   0%|          | 0.00/456k [00:00<?, ?B/s]"
      ]
     },
     "metadata": {},
     "output_type": "display_data"
    },
    {
     "data": {
      "application/vnd.jupyter.widget-view+json": {
       "model_id": "5776de40e9674be18b3645f360f66b4a",
       "version_major": 2,
       "version_minor": 0
      },
      "text/plain": [
       "Downloading (…)/main/tokenizer.json:   0%|          | 0.00/1.36M [00:00<?, ?B/s]"
      ]
     },
     "metadata": {},
     "output_type": "display_data"
    }
   ],
   "source": [
    "# Initializing Zero-Shot Classifier\n",
    "classifier = pipeline(\"zero-shot-classification\", model=\"facebook/bart-large-mnli\")"
   ]
  },
  {
   "cell_type": "code",
   "execution_count": 9,
   "id": "7d17cb94",
   "metadata": {
    "execution": {
     "iopub.execute_input": "2023-03-01T07:43:02.793109Z",
     "iopub.status.busy": "2023-03-01T07:43:02.792577Z",
     "iopub.status.idle": "2023-03-01T07:43:06.931394Z",
     "shell.execute_reply": "2023-03-01T07:43:06.929967Z"
    },
    "papermill": {
     "duration": 4.154558,
     "end_time": "2023-03-01T07:43:06.934382",
     "exception": false,
     "start_time": "2023-03-01T07:43:02.779824",
     "status": "completed"
    },
    "tags": []
   },
   "outputs": [
    {
     "data": {
      "text/plain": [
       "{'sequence': 'Based on a true story, this action film follows an incident that stunned a nation in the early 1990s. In Mumbai, India, the notorious gangster Maya holds off veteran cop Khan and a force of more than 200 policemen in a six-hour bloody gunfight.',\n",
       " 'labels': ['Actions', 'Violence', 'Crime', 'Adventure', 'Finance', 'Food'],\n",
       " 'scores': [0.8735316395759583,\n",
       "  0.8443192839622498,\n",
       "  0.42162415385246277,\n",
       "  0.215681254863739,\n",
       "  0.004167917184531689,\n",
       "  0.0024876396637409925]}"
      ]
     },
     "execution_count": 9,
     "metadata": {},
     "output_type": "execute_result"
    }
   ],
   "source": [
    "# sequences_to_classify\n",
    "sequences = df2.iloc[2][\"description\"]\n",
    "\n",
    "# candidate_labels\n",
    "labels = [\"Actions\", \"Adventure\", \"Crime\", \"Violence\", \"Finance\", \"Food\"]\n",
    "\n",
    "# Running the classifier\n",
    "classifier(sequences, labels, multi_label=True)"
   ]
  },
  {
   "cell_type": "markdown",
   "id": "453a530e",
   "metadata": {
    "papermill": {
     "duration": 0.010565,
     "end_time": "2023-03-01T07:43:06.955815",
     "exception": false,
     "start_time": "2023-03-01T07:43:06.945250",
     "status": "completed"
    },
    "tags": []
   },
   "source": [
    "## Trial : Example \n",
    "When given the irrelevant labels to the classifier"
   ]
  },
  {
   "cell_type": "code",
   "execution_count": 10,
   "id": "f6b7dc11",
   "metadata": {
    "execution": {
     "iopub.execute_input": "2023-03-01T07:43:06.981752Z",
     "iopub.status.busy": "2023-03-01T07:43:06.980855Z",
     "iopub.status.idle": "2023-03-01T07:43:09.653349Z",
     "shell.execute_reply": "2023-03-01T07:43:09.651878Z"
    },
    "papermill": {
     "duration": 2.689447,
     "end_time": "2023-03-01T07:43:09.656164",
     "exception": false,
     "start_time": "2023-03-01T07:43:06.966717",
     "status": "completed"
    },
    "tags": []
   },
   "outputs": [
    {
     "data": {
      "text/plain": [
       "{'sequence': 'Based on a true story, this action film follows an incident that stunned a nation in the early 1990s. In Mumbai, India, the notorious gangster Maya holds off veteran cop Khan and a force of more than 200 policemen in a six-hour bloody gunfight.',\n",
       " 'labels': ['Finance', 'Food', 'gaming', 'comedy'],\n",
       " 'scores': [0.004167917184531689,\n",
       "  0.0024876396637409925,\n",
       "  0.00038156984373927116,\n",
       "  0.0001847402600105852]}"
      ]
     },
     "execution_count": 10,
     "metadata": {},
     "output_type": "execute_result"
    }
   ],
   "source": [
    "# sequences_to_classify\n",
    "sequences = df2.iloc[2][\"description\"]\n",
    "\n",
    "# candidate_labels\n",
    "labels = [ \"comedy\", \"Finance\", \"Food\",\"gaming\"]\n",
    "\n",
    "# Running the classifier\n",
    "classifier(sequences, labels, multi_label=True)"
   ]
  },
  {
   "cell_type": "markdown",
   "id": "56a62679",
   "metadata": {
    "papermill": {
     "duration": 0.010941,
     "end_time": "2023-03-01T07:43:09.678632",
     "exception": false,
     "start_time": "2023-03-01T07:43:09.667691",
     "status": "completed"
    },
    "tags": []
   },
   "source": [
    "## Predict on whole dataset"
   ]
  },
  {
   "cell_type": "code",
   "execution_count": 11,
   "id": "9de441e6",
   "metadata": {
    "execution": {
     "iopub.execute_input": "2023-03-01T07:43:09.703237Z",
     "iopub.status.busy": "2023-03-01T07:43:09.702701Z",
     "iopub.status.idle": "2023-03-01T07:43:09.708590Z",
     "shell.execute_reply": "2023-03-01T07:43:09.707552Z"
    },
    "papermill": {
     "duration": 0.02177,
     "end_time": "2023-03-01T07:43:09.711340",
     "exception": false,
     "start_time": "2023-03-01T07:43:09.689570",
     "status": "completed"
    },
    "tags": []
   },
   "outputs": [],
   "source": [
    "zero_shot_classes=list(unique_categories)\n"
   ]
  },
  {
   "cell_type": "code",
   "execution_count": 12,
   "id": "d07e219b",
   "metadata": {
    "execution": {
     "iopub.execute_input": "2023-03-01T07:43:09.736594Z",
     "iopub.status.busy": "2023-03-01T07:43:09.735868Z",
     "iopub.status.idle": "2023-03-01T07:43:59.905249Z",
     "shell.execute_reply": "2023-03-01T07:43:59.903800Z"
    },
    "papermill": {
     "duration": 50.186075,
     "end_time": "2023-03-01T07:43:59.908380",
     "exception": false,
     "start_time": "2023-03-01T07:43:09.722305",
     "status": "completed"
    },
    "tags": []
   },
   "outputs": [
    {
     "data": {
      "application/vnd.jupyter.widget-view+json": {
       "model_id": "1d62ff7f6f5d41e085cc3367ee028986",
       "version_major": 2,
       "version_minor": 0
      },
      "text/plain": [
       "  0%|          | 0/9 [00:00<?, ?it/s]"
      ]
     },
     "metadata": {},
     "output_type": "display_data"
    }
   ],
   "source": [
    "from tqdm.notebook import tqdm_notebook\n",
    "\n",
    "tqdm_notebook.pandas()\n",
    "\n",
    "df2['zero_shot_output']=df2['description'].progress_apply(lambda x:classifier(x,zero_shot_classes,\n",
    "                            multi_label=True,hypothesis_template=\"Based on a true story{}\"))"
   ]
  },
  {
   "cell_type": "code",
   "execution_count": 13,
   "id": "4cd113b6",
   "metadata": {
    "execution": {
     "iopub.execute_input": "2023-03-01T07:43:59.935088Z",
     "iopub.status.busy": "2023-03-01T07:43:59.934081Z",
     "iopub.status.idle": "2023-03-01T07:43:59.948528Z",
     "shell.execute_reply": "2023-03-01T07:43:59.947173Z"
    },
    "papermill": {
     "duration": 0.031363,
     "end_time": "2023-03-01T07:43:59.952033",
     "exception": false,
     "start_time": "2023-03-01T07:43:59.920670",
     "status": "completed"
    },
    "tags": []
   },
   "outputs": [],
   "source": [
    "df2.to_csv(\"Netflix_Zero_Shot_Prediction.csv\",index=False)"
   ]
  },
  {
   "cell_type": "markdown",
   "id": "2362fa24",
   "metadata": {
    "papermill": {
     "duration": 0.011208,
     "end_time": "2023-03-01T07:43:59.974552",
     "exception": false,
     "start_time": "2023-03-01T07:43:59.963344",
     "status": "completed"
    },
    "tags": []
   },
   "source": [
    "# Making Predictions"
   ]
  },
  {
   "cell_type": "code",
   "execution_count": 14,
   "id": "ec2b0028",
   "metadata": {
    "execution": {
     "iopub.execute_input": "2023-03-01T07:43:59.999500Z",
     "iopub.status.busy": "2023-03-01T07:43:59.999002Z",
     "iopub.status.idle": "2023-03-01T07:44:00.007608Z",
     "shell.execute_reply": "2023-03-01T07:44:00.005962Z"
    },
    "papermill": {
     "duration": 0.02468,
     "end_time": "2023-03-01T07:44:00.010514",
     "exception": false,
     "start_time": "2023-03-01T07:43:59.985834",
     "status": "completed"
    },
    "tags": []
   },
   "outputs": [],
   "source": [
    "def getLabelScore(zero_shot_output):\n",
    "    labels=zero_shot_output['labels']\n",
    "    scores=zero_shot_output['scores']\n",
    "    num_labels=len(labels)\n",
    "    score_dict={label:scores[idx] for idx,label in enumerate(labels)}\n",
    "    return score_dict\n",
    "\n",
    "def predictedScore(zero_shot_label_score,label):\n",
    "    return zero_shot_label_score[label]\n",
    "\n",
    "def is_predicted(zero_shot_label_score,label, threshold=0.5):\n",
    "    if zero_shot_label_score[label]>=threshold:\n",
    "        return 1\n",
    "    else:\n",
    "        return 0"
   ]
  },
  {
   "cell_type": "code",
   "execution_count": 15,
   "id": "d7d1d062",
   "metadata": {
    "execution": {
     "iopub.execute_input": "2023-03-01T07:44:00.035521Z",
     "iopub.status.busy": "2023-03-01T07:44:00.034999Z",
     "iopub.status.idle": "2023-03-01T07:44:00.043642Z",
     "shell.execute_reply": "2023-03-01T07:44:00.042259Z"
    },
    "papermill": {
     "duration": 0.024852,
     "end_time": "2023-03-01T07:44:00.046683",
     "exception": false,
     "start_time": "2023-03-01T07:44:00.021831",
     "status": "completed"
    },
    "tags": []
   },
   "outputs": [],
   "source": [
    "import ast\n",
    "#data['zero_shot_output']=data['zero_shot_output'].apply(lambda x:ast.literal_eval(x))\n",
    "df2['zero_shot_label_score'] =df2['zero_shot_output'].apply(lambda x:getLabelScore(x))"
   ]
  },
  {
   "cell_type": "code",
   "execution_count": 16,
   "id": "3ed69a22",
   "metadata": {
    "execution": {
     "iopub.execute_input": "2023-03-01T07:44:00.073133Z",
     "iopub.status.busy": "2023-03-01T07:44:00.071785Z",
     "iopub.status.idle": "2023-03-01T07:44:00.099303Z",
     "shell.execute_reply": "2023-03-01T07:44:00.097743Z"
    },
    "papermill": {
     "duration": 0.044281,
     "end_time": "2023-03-01T07:44:00.102437",
     "exception": false,
     "start_time": "2023-03-01T07:44:00.058156",
     "status": "completed"
    },
    "tags": []
   },
   "outputs": [
    {
     "data": {
      "text/html": [
       "<div>\n",
       "<style scoped>\n",
       "    .dataframe tbody tr th:only-of-type {\n",
       "        vertical-align: middle;\n",
       "    }\n",
       "\n",
       "    .dataframe tbody tr th {\n",
       "        vertical-align: top;\n",
       "    }\n",
       "\n",
       "    .dataframe thead th {\n",
       "        text-align: right;\n",
       "    }\n",
       "</style>\n",
       "<table border=\"1\" class=\"dataframe\">\n",
       "  <thead>\n",
       "    <tr style=\"text-align: right;\">\n",
       "      <th></th>\n",
       "      <th>listed_in</th>\n",
       "      <th>description</th>\n",
       "      <th>text_length</th>\n",
       "      <th>Action &amp; Adventure</th>\n",
       "      <th>Children &amp; Family Movies</th>\n",
       "      <th>Comedies</th>\n",
       "      <th>Anime Features</th>\n",
       "      <th>Sci-Fi &amp; Fantasy</th>\n",
       "      <th>Dramas</th>\n",
       "      <th>International Movies</th>\n",
       "      <th>Dramas</th>\n",
       "      <th>zero_shot_output</th>\n",
       "      <th>zero_shot_label_score</th>\n",
       "    </tr>\n",
       "  </thead>\n",
       "  <tbody>\n",
       "    <tr>\n",
       "      <th>0</th>\n",
       "      <td>Dramas, International Movies</td>\n",
       "      <td>An Indian village is abuzz with news that a major movie star is coming to town – even more so because the town barber went to school with him. But as the day of the actor's visit approaches, the humble barber begins to worry he won't be recognized.</td>\n",
       "      <td>48</td>\n",
       "      <td>0</td>\n",
       "      <td>0</td>\n",
       "      <td>0</td>\n",
       "      <td>0</td>\n",
       "      <td>0</td>\n",
       "      <td>1</td>\n",
       "      <td>1</td>\n",
       "      <td>0</td>\n",
       "      <td>{'sequence': 'An Indian village is abuzz with news that a major movie star is coming to town – even more so because the town barber went to school with him. But as the day of the actor's visit approaches, the humble barber begins to worry he won't be recognized.', 'labels': ['Dramas', 'Children &amp; Family Movies', 'Action &amp; Adventure', ' International Movies', ' Dramas', ' Sci-Fi &amp; Fantasy', ' Comedies', ' Anime Features'], 'scores': [0.6809404492378235, 0.5358092188835144, 0.43985724449157715, 0.13803400099277496, 0.09333585202693939, 0.028928373008966446, 0.02492261864244938, 0.01845337077975273]}</td>\n",
       "      <td>{'Dramas': 0.6809404492378235, 'Children &amp; Family Movies': 0.5358092188835144, 'Action &amp; Adventure': 0.43985724449157715, ' International Movies': 0.13803400099277496, ' Dramas': 0.09333585202693939, ' Sci-Fi &amp; Fantasy': 0.028928373008966446, ' Comedies': 0.02492261864244938, ' Anime Features': 0.01845337077975273}</td>\n",
       "    </tr>\n",
       "    <tr>\n",
       "      <th>1</th>\n",
       "      <td>Children &amp; Family Movies</td>\n",
       "      <td>Half-dog, half-wolf Balto (voiced by Maurice LaMarche) and his wife proudly put their pups up for adoption to humans, but when nobody takes daughter Aleu because she looks too much like a wolf, she runs away to search for her place in the world.</td>\n",
       "      <td>44</td>\n",
       "      <td>0</td>\n",
       "      <td>1</td>\n",
       "      <td>0</td>\n",
       "      <td>0</td>\n",
       "      <td>0</td>\n",
       "      <td>0</td>\n",
       "      <td>0</td>\n",
       "      <td>0</td>\n",
       "      <td>{'sequence': 'Half-dog, half-wolf Balto (voiced by Maurice LaMarche) and his wife proudly put their pups up for adoption to humans, but when nobody takes daughter Aleu because she looks too much like a wolf, she runs away to search for her place in the world.', 'labels': ['Children &amp; Family Movies', 'Action &amp; Adventure', 'Dramas', ' International Movies', ' Dramas', ' Anime Features', ' Sci-Fi &amp; Fantasy', ' Comedies'], 'scores': [0.9415066838264465, 0.8892443776130676, 0.511713981628418, 0.2176641821861267, 0.13990110158920288, 0.12456080317497253, 0.10370185971260071, 0.09905635565519333]}</td>\n",
       "      <td>{'Children &amp; Family Movies': 0.9415066838264465, 'Action &amp; Adventure': 0.8892443776130676, 'Dramas': 0.511713981628418, ' International Movies': 0.2176641821861267, ' Dramas': 0.13990110158920288, ' Anime Features': 0.12456080317497253, ' Sci-Fi &amp; Fantasy': 0.10370185971260071, ' Comedies': 0.09905635565519333}</td>\n",
       "    </tr>\n",
       "    <tr>\n",
       "      <th>2</th>\n",
       "      <td>Action &amp; Adventure, Dramas, International Movies</td>\n",
       "      <td>Based on a true story, this action film follows an incident that stunned a nation in the early 1990s. In Mumbai, India, the notorious gangster Maya holds off veteran cop Khan and a force of more than 200 policemen in a six-hour bloody gunfight.</td>\n",
       "      <td>44</td>\n",
       "      <td>1</td>\n",
       "      <td>0</td>\n",
       "      <td>0</td>\n",
       "      <td>0</td>\n",
       "      <td>0</td>\n",
       "      <td>1</td>\n",
       "      <td>1</td>\n",
       "      <td>1</td>\n",
       "      <td>{'sequence': 'Based on a true story, this action film follows an incident that stunned a nation in the early 1990s. In Mumbai, India, the notorious gangster Maya holds off veteran cop Khan and a force of more than 200 policemen in a six-hour bloody gunfight.', 'labels': ['Action &amp; Adventure', ' International Movies', 'Dramas', ' Dramas', ' Anime Features', ' Sci-Fi &amp; Fantasy', 'Children &amp; Family Movies', ' Comedies'], 'scores': [0.9430562257766724, 0.8655526041984558, 0.12100867927074432, 0.04837482422590256, 0.03195957839488983, 0.012641016393899918, 0.00594716239720583, 0.0014541021082550287]}</td>\n",
       "      <td>{'Action &amp; Adventure': 0.9430562257766724, ' International Movies': 0.8655526041984558, 'Dramas': 0.12100867927074432, ' Dramas': 0.04837482422590256, ' Anime Features': 0.03195957839488983, ' Sci-Fi &amp; Fantasy': 0.012641016393899918, 'Children &amp; Family Movies': 0.00594716239720583, ' Comedies': 0.0014541021082550287}</td>\n",
       "    </tr>\n",
       "    <tr>\n",
       "      <th>3</th>\n",
       "      <td>Children &amp; Family Movies, Comedies</td>\n",
       "      <td>When a snow day shuts down the whole town, the Wheeler family cuts loose. Hal makes a play for the most popular girl in his school, 10-year-old Natalie takes on the dreaded snowplow man, and Dad gets into a showdown with a rival meteorologist.</td>\n",
       "      <td>44</td>\n",
       "      <td>0</td>\n",
       "      <td>1</td>\n",
       "      <td>1</td>\n",
       "      <td>0</td>\n",
       "      <td>0</td>\n",
       "      <td>0</td>\n",
       "      <td>0</td>\n",
       "      <td>0</td>\n",
       "      <td>{'sequence': 'When a snow day shuts down the whole town, the Wheeler family cuts loose. Hal makes a play for the most popular girl in his school, 10-year-old Natalie takes on the dreaded snowplow man, and Dad gets into a showdown with a rival meteorologist.', 'labels': ['Children &amp; Family Movies', 'Action &amp; Adventure', 'Dramas', ' Dramas', ' International Movies', ' Comedies', ' Sci-Fi &amp; Fantasy', ' Anime Features'], 'scores': [0.9755054712295532, 0.9514228701591492, 0.7888755798339844, 0.27840450406074524, 0.2546396553516388, 0.24594315886497498, 0.06654435396194458, 0.055898889899253845]}</td>\n",
       "      <td>{'Children &amp; Family Movies': 0.9755054712295532, 'Action &amp; Adventure': 0.9514228701591492, 'Dramas': 0.7888755798339844, ' Dramas': 0.27840450406074524, ' International Movies': 0.2546396553516388, ' Comedies': 0.24594315886497498, ' Sci-Fi &amp; Fantasy': 0.06654435396194458, ' Anime Features': 0.055898889899253845}</td>\n",
       "    </tr>\n",
       "    <tr>\n",
       "      <th>4</th>\n",
       "      <td>Action &amp; Adventure, International Movies</td>\n",
       "      <td>In the age of the Ming Dynasty, Quinglong is the best of the Jinyiwei, an elite assassin squad made up of highly trained former street urchins. When evil eunuch Jia unseats the emperor, Quinglong is called to action but is quickly betrayed.</td>\n",
       "      <td>42</td>\n",
       "      <td>1</td>\n",
       "      <td>0</td>\n",
       "      <td>0</td>\n",
       "      <td>0</td>\n",
       "      <td>0</td>\n",
       "      <td>0</td>\n",
       "      <td>1</td>\n",
       "      <td>0</td>\n",
       "      <td>{'sequence': 'In the age of the Ming Dynasty, Quinglong is the best of the Jinyiwei, an elite assassin squad made up of highly trained former street urchins. When evil eunuch Jia unseats the emperor, Quinglong is called to action but is quickly betrayed.', 'labels': ['Action &amp; Adventure', 'Dramas', 'Children &amp; Family Movies', ' International Movies', ' Anime Features', ' Dramas', ' Sci-Fi &amp; Fantasy', ' Comedies'], 'scores': [0.9556498527526855, 0.8229438066482544, 0.601668655872345, 0.4978576600551605, 0.38464853167533875, 0.27924296259880066, 0.18646462261676788, 0.026602551341056824]}</td>\n",
       "      <td>{'Action &amp; Adventure': 0.9556498527526855, 'Dramas': 0.8229438066482544, 'Children &amp; Family Movies': 0.601668655872345, ' International Movies': 0.4978576600551605, ' Anime Features': 0.38464853167533875, ' Dramas': 0.27924296259880066, ' Sci-Fi &amp; Fantasy': 0.18646462261676788, ' Comedies': 0.026602551341056824}</td>\n",
       "    </tr>\n",
       "  </tbody>\n",
       "</table>\n",
       "</div>"
      ],
      "text/plain": [
       "                                          listed_in  \\\n",
       "0                      Dramas, International Movies   \n",
       "1                          Children & Family Movies   \n",
       "2  Action & Adventure, Dramas, International Movies   \n",
       "3                Children & Family Movies, Comedies   \n",
       "4          Action & Adventure, International Movies   \n",
       "\n",
       "                                                                                                                                                                                                                                                description  \\\n",
       "0  An Indian village is abuzz with news that a major movie star is coming to town – even more so because the town barber went to school with him. But as the day of the actor's visit approaches, the humble barber begins to worry he won't be recognized.   \n",
       "1     Half-dog, half-wolf Balto (voiced by Maurice LaMarche) and his wife proudly put their pups up for adoption to humans, but when nobody takes daughter Aleu because she looks too much like a wolf, she runs away to search for her place in the world.   \n",
       "2      Based on a true story, this action film follows an incident that stunned a nation in the early 1990s. In Mumbai, India, the notorious gangster Maya holds off veteran cop Khan and a force of more than 200 policemen in a six-hour bloody gunfight.   \n",
       "3       When a snow day shuts down the whole town, the Wheeler family cuts loose. Hal makes a play for the most popular girl in his school, 10-year-old Natalie takes on the dreaded snowplow man, and Dad gets into a showdown with a rival meteorologist.   \n",
       "4          In the age of the Ming Dynasty, Quinglong is the best of the Jinyiwei, an elite assassin squad made up of highly trained former street urchins. When evil eunuch Jia unseats the emperor, Quinglong is called to action but is quickly betrayed.   \n",
       "\n",
       "   text_length  Action & Adventure  Children & Family Movies   Comedies  \\\n",
       "0           48                   0                         0          0   \n",
       "1           44                   0                         1          0   \n",
       "2           44                   1                         0          0   \n",
       "3           44                   0                         1          1   \n",
       "4           42                   1                         0          0   \n",
       "\n",
       "    Anime Features   Sci-Fi & Fantasy  Dramas   International Movies   Dramas  \\\n",
       "0                0                  0       1                      1        0   \n",
       "1                0                  0       0                      0        0   \n",
       "2                0                  0       1                      1        1   \n",
       "3                0                  0       0                      0        0   \n",
       "4                0                  0       0                      1        0   \n",
       "\n",
       "                                                                                                                                                                                                                                                                                                                                                                                                                                                                                                                                                                                                               zero_shot_output  \\\n",
       "0  {'sequence': 'An Indian village is abuzz with news that a major movie star is coming to town – even more so because the town barber went to school with him. But as the day of the actor's visit approaches, the humble barber begins to worry he won't be recognized.', 'labels': ['Dramas', 'Children & Family Movies', 'Action & Adventure', ' International Movies', ' Dramas', ' Sci-Fi & Fantasy', ' Comedies', ' Anime Features'], 'scores': [0.6809404492378235, 0.5358092188835144, 0.43985724449157715, 0.13803400099277496, 0.09333585202693939, 0.028928373008966446, 0.02492261864244938, 0.01845337077975273]}   \n",
       "1         {'sequence': 'Half-dog, half-wolf Balto (voiced by Maurice LaMarche) and his wife proudly put their pups up for adoption to humans, but when nobody takes daughter Aleu because she looks too much like a wolf, she runs away to search for her place in the world.', 'labels': ['Children & Family Movies', 'Action & Adventure', 'Dramas', ' International Movies', ' Dramas', ' Anime Features', ' Sci-Fi & Fantasy', ' Comedies'], 'scores': [0.9415066838264465, 0.8892443776130676, 0.511713981628418, 0.2176641821861267, 0.13990110158920288, 0.12456080317497253, 0.10370185971260071, 0.09905635565519333]}   \n",
       "2    {'sequence': 'Based on a true story, this action film follows an incident that stunned a nation in the early 1990s. In Mumbai, India, the notorious gangster Maya holds off veteran cop Khan and a force of more than 200 policemen in a six-hour bloody gunfight.', 'labels': ['Action & Adventure', ' International Movies', 'Dramas', ' Dramas', ' Anime Features', ' Sci-Fi & Fantasy', 'Children & Family Movies', ' Comedies'], 'scores': [0.9430562257766724, 0.8655526041984558, 0.12100867927074432, 0.04837482422590256, 0.03195957839488983, 0.012641016393899918, 0.00594716239720583, 0.0014541021082550287]}   \n",
       "3         {'sequence': 'When a snow day shuts down the whole town, the Wheeler family cuts loose. Hal makes a play for the most popular girl in his school, 10-year-old Natalie takes on the dreaded snowplow man, and Dad gets into a showdown with a rival meteorologist.', 'labels': ['Children & Family Movies', 'Action & Adventure', 'Dramas', ' Dramas', ' International Movies', ' Comedies', ' Sci-Fi & Fantasy', ' Anime Features'], 'scores': [0.9755054712295532, 0.9514228701591492, 0.7888755798339844, 0.27840450406074524, 0.2546396553516388, 0.24594315886497498, 0.06654435396194458, 0.055898889899253845]}   \n",
       "4             {'sequence': 'In the age of the Ming Dynasty, Quinglong is the best of the Jinyiwei, an elite assassin squad made up of highly trained former street urchins. When evil eunuch Jia unseats the emperor, Quinglong is called to action but is quickly betrayed.', 'labels': ['Action & Adventure', 'Dramas', 'Children & Family Movies', ' International Movies', ' Anime Features', ' Dramas', ' Sci-Fi & Fantasy', ' Comedies'], 'scores': [0.9556498527526855, 0.8229438066482544, 0.601668655872345, 0.4978576600551605, 0.38464853167533875, 0.27924296259880066, 0.18646462261676788, 0.026602551341056824]}   \n",
       "\n",
       "                                                                                                                                                                                                                                                                                                            zero_shot_label_score  \n",
       "0    {'Dramas': 0.6809404492378235, 'Children & Family Movies': 0.5358092188835144, 'Action & Adventure': 0.43985724449157715, ' International Movies': 0.13803400099277496, ' Dramas': 0.09333585202693939, ' Sci-Fi & Fantasy': 0.028928373008966446, ' Comedies': 0.02492261864244938, ' Anime Features': 0.01845337077975273}  \n",
       "1        {'Children & Family Movies': 0.9415066838264465, 'Action & Adventure': 0.8892443776130676, 'Dramas': 0.511713981628418, ' International Movies': 0.2176641821861267, ' Dramas': 0.13990110158920288, ' Anime Features': 0.12456080317497253, ' Sci-Fi & Fantasy': 0.10370185971260071, ' Comedies': 0.09905635565519333}  \n",
       "2  {'Action & Adventure': 0.9430562257766724, ' International Movies': 0.8655526041984558, 'Dramas': 0.12100867927074432, ' Dramas': 0.04837482422590256, ' Anime Features': 0.03195957839488983, ' Sci-Fi & Fantasy': 0.012641016393899918, 'Children & Family Movies': 0.00594716239720583, ' Comedies': 0.0014541021082550287}  \n",
       "3      {'Children & Family Movies': 0.9755054712295532, 'Action & Adventure': 0.9514228701591492, 'Dramas': 0.7888755798339844, ' Dramas': 0.27840450406074524, ' International Movies': 0.2546396553516388, ' Comedies': 0.24594315886497498, ' Sci-Fi & Fantasy': 0.06654435396194458, ' Anime Features': 0.055898889899253845}  \n",
       "4       {'Action & Adventure': 0.9556498527526855, 'Dramas': 0.8229438066482544, 'Children & Family Movies': 0.601668655872345, ' International Movies': 0.4978576600551605, ' Anime Features': 0.38464853167533875, ' Dramas': 0.27924296259880066, ' Sci-Fi & Fantasy': 0.18646462261676788, ' Comedies': 0.026602551341056824}  "
      ]
     },
     "execution_count": 16,
     "metadata": {},
     "output_type": "execute_result"
    }
   ],
   "source": [
    "df2.head()"
   ]
  },
  {
   "cell_type": "code",
   "execution_count": 17,
   "id": "584fd663",
   "metadata": {
    "execution": {
     "iopub.execute_input": "2023-03-01T07:44:00.129432Z",
     "iopub.status.busy": "2023-03-01T07:44:00.128257Z",
     "iopub.status.idle": "2023-03-01T07:44:00.144279Z",
     "shell.execute_reply": "2023-03-01T07:44:00.142520Z"
    },
    "papermill": {
     "duration": 0.033694,
     "end_time": "2023-03-01T07:44:00.148193",
     "exception": false,
     "start_time": "2023-03-01T07:44:00.114499",
     "status": "completed"
    },
    "tags": []
   },
   "outputs": [],
   "source": [
    "for cat in zero_shot_classes:\n",
    "    df2[cat+\"_pred_score\"]=df2['zero_shot_label_score'].apply(lambda x:predictedScore(x,cat))"
   ]
  },
  {
   "cell_type": "markdown",
   "id": "e72e8045",
   "metadata": {
    "papermill": {
     "duration": 0.011048,
     "end_time": "2023-03-01T07:44:00.171072",
     "exception": false,
     "start_time": "2023-03-01T07:44:00.160024",
     "status": "completed"
    },
    "tags": []
   },
   "source": [
    "## AUC-ROC curve"
   ]
  },
  {
   "cell_type": "code",
   "execution_count": 18,
   "id": "ad77ca39",
   "metadata": {
    "execution": {
     "iopub.execute_input": "2023-03-01T07:44:00.196953Z",
     "iopub.status.busy": "2023-03-01T07:44:00.196391Z",
     "iopub.status.idle": "2023-03-01T07:44:02.297399Z",
     "shell.execute_reply": "2023-03-01T07:44:02.296130Z"
    },
    "papermill": {
     "duration": 2.117859,
     "end_time": "2023-03-01T07:44:02.300385",
     "exception": false,
     "start_time": "2023-03-01T07:44:00.182526",
     "status": "completed"
    },
    "tags": []
   },
   "outputs": [
    {
     "data": {
      "image/png": "[encoded data removed]",
      "text/plain": [
       "<Figure size 640x480 with 1 Axes>"
      ]
     },
     "metadata": {},
     "output_type": "display_data"
    },
    {
     "data": {
      "image/png": "[encoded data removed]",
      "text/plain": [
       "<Figure size 640x480 with 1 Axes>"
      ]
     },
     "metadata": {},
     "output_type": "display_data"
    },
    {
     "data": {
      "image/png": "[encoded data removed]",
      "text/plain": [
       "<Figure size 640x480 with 1 Axes>"
      ]
     },
     "metadata": {},
     "output_type": "display_data"
    },
    {
     "data": {
      "image/png": "[encoded data removed]",
      "text/plain": [
       "<Figure size 640x480 with 1 Axes>"
      ]
     },
     "metadata": {},
     "output_type": "display_data"
    },
    {
     "data": {
      "image/png": "[encoded data removed]",
      "text/plain": [
       "<Figure size 640x480 with 1 Axes>"
      ]
     },
     "metadata": {},
     "output_type": "display_data"
    },
    {
     "data": {
      "image/png": "[encoded data removed]",
      "text/plain": [
       "<Figure size 640x480 with 1 Axes>"
      ]
     },
     "metadata": {},
     "output_type": "display_data"
    },
    {
     "data": {
      "image/png": "[encoded data removed]",
      "text/plain": [
       "<Figure size 640x480 with 1 Axes>"
      ]
     },
     "metadata": {},
     "output_type": "display_data"
    },
    {
     "data": {
      "image/png": "[encoded data removed]",
      "text/plain": [
       "<Figure size 640x480 with 1 Axes>"
      ]
     },
     "metadata": {},
     "output_type": "display_data"
    }
   ],
   "source": [
    "from sklearn.metrics import roc_curve,auc,RocCurveDisplay\n",
    "for cat in unique_categories:\n",
    "    fpr, tpr, thresholds = roc_curve(df2[cat], df2[cat+\"_pred_score\"])\n",
    "    roc_auc = auc(fpr, tpr)\n",
    "    display = RocCurveDisplay(fpr=fpr, tpr=tpr, roc_auc=roc_auc,estimator_name='AUC FOR '+cat)\n",
    "    display.plot()"
   ]
  },
  {
   "cell_type": "code",
   "execution_count": 19,
   "id": "9c7bb005",
   "metadata": {
    "execution": {
     "iopub.execute_input": "2023-03-01T07:44:02.335667Z",
     "iopub.status.busy": "2023-03-01T07:44:02.334649Z",
     "iopub.status.idle": "2023-03-01T07:44:02.352836Z",
     "shell.execute_reply": "2023-03-01T07:44:02.350325Z"
    },
    "papermill": {
     "duration": 0.040568,
     "end_time": "2023-03-01T07:44:02.357411",
     "exception": false,
     "start_time": "2023-03-01T07:44:02.316843",
     "status": "completed"
    },
    "tags": []
   },
   "outputs": [
    {
     "name": "stdout",
     "output_type": "stream",
     "text": [
      "Category Action & Adventure\n",
      "Best Threshold: 0.9431 with G-Mean: 0.6708\n",
      "FPR: 0.25, TPR: 0.6\n",
      "Category Children & Family Movies\n",
      "Best Threshold: 0.9415 with G-Mean: 1.0\n",
      "FPR: 0.0, TPR: 1.0\n",
      "Category  Comedies\n",
      "Best Threshold: 0.2459 with G-Mean: 0.7071\n",
      "FPR: 0.0, TPR: 0.5\n",
      "Category  Anime Features\n",
      "Best Threshold: 0.3536 with G-Mean: 0.9354\n",
      "FPR: 0.125, TPR: 1.0\n",
      "Category  Sci-Fi & Fantasy\n",
      "Best Threshold: 0.1638 with G-Mean: 0.9354\n",
      "FPR: 0.125, TPR: 1.0\n",
      "Category Dramas\n",
      "Best Threshold: 0.6809 with G-Mean: 0.3162\n",
      "FPR: 0.6, TPR: 0.25\n",
      "Category  International Movies\n",
      "Best Threshold: 0.4421 with G-Mean: 0.866\n",
      "FPR: 0.0, TPR: 0.75\n",
      "Category  Dramas\n",
      "Best Threshold: 1.2807 with G-Mean: 0.0\n",
      "FPR: 0.0, TPR: 0.0\n"
     ]
    }
   ],
   "source": [
    "threshold={}\n",
    "for cat in unique_categories:\n",
    "    fpr, tpr, thresholds = roc_curve(df2[cat], df2[cat+\"_pred_score\"])\n",
    "    gmean = np.sqrt(tpr * (1 - fpr))\n",
    "    print(\"Category \"+cat)\n",
    "    # Find the optimal threshold\n",
    "    index = np.argmax(gmean)\n",
    "    thresholdOpt = round(thresholds[index], ndigits = 4)\n",
    "    gmeanOpt = round(gmean[index], ndigits = 4)\n",
    "    fprOpt = round(fpr[index], ndigits = 4)\n",
    "    tprOpt = round(tpr[index], ndigits = 4)\n",
    "    print('Best Threshold: {} with G-Mean: {}'.format(thresholdOpt, gmeanOpt))\n",
    "    threshold[cat]=thresholdOpt\n",
    "    print('FPR: {}, TPR: {}'.format(fprOpt, tprOpt))"
   ]
  },
  {
   "cell_type": "code",
   "execution_count": 20,
   "id": "4aecc952",
   "metadata": {
    "execution": {
     "iopub.execute_input": "2023-03-01T07:44:02.391766Z",
     "iopub.status.busy": "2023-03-01T07:44:02.390441Z",
     "iopub.status.idle": "2023-03-01T07:44:02.404319Z",
     "shell.execute_reply": "2023-03-01T07:44:02.403139Z"
    },
    "papermill": {
     "duration": 0.034224,
     "end_time": "2023-03-01T07:44:02.407533",
     "exception": false,
     "start_time": "2023-03-01T07:44:02.373309",
     "status": "completed"
    },
    "tags": []
   },
   "outputs": [],
   "source": [
    "## Setting Threshold of 0.9 and getting the predictions for the classes as 1 or 0\n",
    "for cat in unique_categories:\n",
    "    df2[cat+\"_pred\"]=df2['zero_shot_label_score'].apply(lambda x:is_predicted(x,cat,threshold=0.9))"
   ]
  },
  {
   "cell_type": "markdown",
   "id": "d2d28484",
   "metadata": {
    "papermill": {
     "duration": 0.015023,
     "end_time": "2023-03-01T07:44:02.438008",
     "exception": false,
     "start_time": "2023-03-01T07:44:02.422985",
     "status": "completed"
    },
    "tags": []
   },
   "source": [
    "# <center>Evaluation</center>"
   ]
  },
  {
   "cell_type": "markdown",
   "id": "3bf0a60b",
   "metadata": {
    "papermill": {
     "duration": 0.014953,
     "end_time": "2023-03-01T07:44:02.468250",
     "exception": false,
     "start_time": "2023-03-01T07:44:02.453297",
     "status": "completed"
    },
    "tags": []
   },
   "source": [
    "## Hamming Loss\n",
    "\n",
    "### The Hamming loss is the fraction of labels that are incorrectly predicted."
   ]
  },
  {
   "cell_type": "code",
   "execution_count": 21,
   "id": "14785a2d",
   "metadata": {
    "execution": {
     "iopub.execute_input": "2023-03-01T07:44:02.501846Z",
     "iopub.status.busy": "2023-03-01T07:44:02.501318Z",
     "iopub.status.idle": "2023-03-01T07:44:02.520586Z",
     "shell.execute_reply": "2023-03-01T07:44:02.519151Z"
    },
    "papermill": {
     "duration": 0.040516,
     "end_time": "2023-03-01T07:44:02.524170",
     "exception": false,
     "start_time": "2023-03-01T07:44:02.483654",
     "status": "completed"
    },
    "tags": []
   },
   "outputs": [
    {
     "name": "stdout",
     "output_type": "stream",
     "text": [
      "Hamming Loss across all categories is \n",
      "0.2361111111111111\n"
     ]
    }
   ],
   "source": [
    "from sklearn.metrics import hamming_loss\n",
    "Y=np.array(df2[zero_shot_classes])\n",
    "Y_pred=np.array(df2[[cat+\"_pred\" for cat in zero_shot_classes]])\n",
    "print(\"Hamming Loss across all categories is \")\n",
    "print(hamming_loss(Y, Y_pred))"
   ]
  },
  {
   "cell_type": "markdown",
   "id": "80b9535b",
   "metadata": {
    "papermill": {
     "duration": 0.015072,
     "end_time": "2023-03-01T07:44:02.555110",
     "exception": false,
     "start_time": "2023-03-01T07:44:02.540038",
     "status": "completed"
    },
    "tags": []
   },
   "source": [
    "# <center>The End</center>"
   ]
  },
  {
   "cell_type": "markdown",
   "id": "5fa89b37",
   "metadata": {
    "papermill": {
     "duration": 0.015159,
     "end_time": "2023-03-01T07:44:02.585732",
     "exception": false,
     "start_time": "2023-03-01T07:44:02.570573",
     "status": "completed"
    },
    "tags": []
   },
   "source": [
    "### <center> If like my work, Do Upvote !! </center>"
   ]
  },
  {
   "cell_type": "code",
   "execution_count": null,
   "id": "71fb85ef",
   "metadata": {
    "papermill": {
     "duration": 0.015159,
     "end_time": "2023-03-01T07:44:02.616499",
     "exception": false,
     "start_time": "2023-03-01T07:44:02.601340",
     "status": "completed"
    },
    "tags": []
   },
   "outputs": [],
   "source": []
  },
  {
   "cell_type": "code",
   "execution_count": null,
   "id": "5d6de096",
   "metadata": {
    "papermill": {
     "duration": 0.0152,
     "end_time": "2023-03-01T07:44:02.647222",
     "exception": false,
     "start_time": "2023-03-01T07:44:02.632022",
     "status": "completed"
    },
    "tags": []
   },
   "outputs": [],
   "source": []
  }
 ],
 "metadata": {
  "kernelspec": {
   "display_name": "Python 3",
   "language": "python",
   "name": "python3"
  },
  "language_info": {
   "codemirror_mode": {
    "name": "ipython",
    "version": 3
   },
   "file_extension": ".py",
   "mimetype": "text/x-python",
   "name": "python",
   "nbconvert_exporter": "python",
   "pygments_lexer": "ipython3",
   "version": "3.7.12"
  },
  "papermill": {
   "default_parameters": {},
   "duration": 188.066917,
   "end_time": "2023-03-01T07:44:06.072766",
   "environment_variables": {},
   "exception": null,
   "input_path": "__notebook__.ipynb",
   "output_path": "__notebook__.ipynb",
   "parameters": {},
   "start_time": "2023-03-01T07:40:58.005849",
   "version": "2.4.0"
  },
  "widgets": {
   "application/vnd.jupyter.widget-state+json": {
    "state": {
     "0384bb3009d7417c9477ff3a0714aaf6": {
      "model_module": "@jupyter-widgets/controls",
      "model_module_version": "1.5.0",
      "model_name": "DescriptionStyleModel",
      "state": {
       "_model_module": "@jupyter-widgets/controls",
       "_model_module_version": "1.5.0",
       "_model_name": "DescriptionStyleModel",
       "_view_count": null,
       "_view_module": "@jupyter-widgets/base",
       "_view_module_version": "1.2.0",
       "_view_name": "StyleView",
       "description_width": ""
      }
     },
     "0d027f7928df45a7bc459da4be351d64": {
      "model_module": "@jupyter-widgets/controls",
      "model_module_version": "1.5.0",
      "model_name": "ProgressStyleModel",
      "state": {
       "_model_module": "@jupyter-widgets/controls",
       "_model_module_version": "1.5.0",
       "_model_name": "ProgressStyleModel",
       "_view_count": null,
       "_view_module": "@jupyter-widgets/base",
       "_view_module_version": "1.2.0",
       "_view_name": "StyleView",
       "bar_color": null,
       "description_width": ""
      }
     },
     "0ff0630a99974ef78741ae4830f58240": {
      "model_module": "@jupyter-widgets/base",
      "model_module_version": "1.2.0",
      "model_name": "LayoutModel",
      "state": {
       "_model_module": "@jupyter-widgets/base",
       "_model_module_version": "1.2.0",
       "_model_name": "LayoutModel",
       "_view_count": null,
       "_view_module": "@jupyter-widgets/base",
       "_view_module_version": "1.2.0",
       "_view_name": "LayoutView",
       "align_content": null,
       "align_items": null,
       "align_self": null,
       "border": null,
       "bottom": null,
       "display": null,
       "flex": null,
       "flex_flow": null,
       "grid_area": null,
       "grid_auto_columns": null,
       "grid_auto_flow": null,
       "grid_auto_rows": null,
       "grid_column": null,
       "grid_gap": null,
       "grid_row": null,
       "grid_template_areas": null,
       "grid_template_columns": null,
       "grid_template_rows": null,
       "height": null,
       "justify_content": null,
       "justify_items": null,
       "left": null,
       "margin": null,
       "max_height": null,
       "max_width": null,
       "min_height": null,
       "min_width": null,
       "object_fit": null,
       "object_position": null,
       "order": null,
       "overflow": null,
       "overflow_x": null,
       "overflow_y": null,
       "padding": null,
       "right": null,
       "top": null,
       "visibility": null,
       "width": null
      }
     },
     "10b25419cacb49cab83bf934c7607872": {
      "model_module": "@jupyter-widgets/controls",
      "model_module_version": "1.5.0",
      "model_name": "FloatProgressModel",
      "state": {
       "_dom_classes": [],
       "_model_module": "@jupyter-widgets/controls",
       "_model_module_version": "1.5.0",
       "_model_name": "FloatProgressModel",
       "_view_count": null,
       "_view_module": "@jupyter-widgets/controls",
       "_view_module_version": "1.5.0",
       "_view_name": "ProgressView",
       "bar_style": "success",
       "description": "",
       "description_tooltip": null,
       "layout": "IPY_MODEL_19f307419e0d4e23bd58087f1323caab",
       "max": 456318.0,
       "min": 0.0,
       "orientation": "horizontal",
       "style": "IPY_MODEL_0d027f7928df45a7bc459da4be351d64",
       "value": 456318.0
      }
     },
     "19f307419e0d4e23bd58087f1323caab": {
      "model_module": "@jupyter-widgets/base",
      "model_module_version": "1.2.0",
      "model_name": "LayoutModel",
      "state": {
       "_model_module": "@jupyter-widgets/base",
       "_model_module_version": "1.2.0",
       "_model_name": "LayoutModel",
       "_view_count": null,
       "_view_module": "@jupyter-widgets/base",
       "_view_module_version": "1.2.0",
       "_view_name": "LayoutView",
       "align_content": null,
       "align_items": null,
       "align_self": null,
       "border": null,
       "bottom": null,
       "display": null,
       "flex": null,
       "flex_flow": null,
       "grid_area": null,
       "grid_auto_columns": null,
       "grid_auto_flow": null,
       "grid_auto_rows": null,
       "grid_column": null,
       "grid_gap": null,
       "grid_row": null,
       "grid_template_areas": null,
       "grid_template_columns": null,
       "grid_template_rows": null,
       "height": null,
       "justify_content": null,
       "justify_items": null,
       "left": null,
       "margin": null,
       "max_height": null,
       "max_width": null,
       "min_height": null,
       "min_width": null,
       "object_fit": null,
       "object_position": null,
       "order": null,
       "overflow": null,
       "overflow_x": null,
       "overflow_y": null,
       "padding": null,
       "right": null,
       "top": null,
       "visibility": null,
       "width": null
      }
     },
     "1c21f08a527a49e3b34841a2726bb09a": {
      "model_module": "@jupyter-widgets/base",
      "model_module_version": "1.2.0",
      "model_name": "LayoutModel",
      "state": {
       "_model_module": "@jupyter-widgets/base",
       "_model_module_version": "1.2.0",
       "_model_name": "LayoutModel",
       "_view_count": null,
       "_view_module": "@jupyter-widgets/base",
       "_view_module_version": "1.2.0",
       "_view_name": "LayoutView",
       "align_content": null,
       "align_items": null,
       "align_self": null,
       "border": null,
       "bottom": null,
       "display": null,
       "flex": null,
       "flex_flow": null,
       "grid_area": null,
       "grid_auto_columns": null,
       "grid_auto_flow": null,
       "grid_auto_rows": null,
       "grid_column": null,
       "grid_gap": null,
       "grid_row": null,
       "grid_template_areas": null,
       "grid_template_columns": null,
       "grid_template_rows": null,
       "height": null,
       "justify_content": null,
       "justify_items": null,
       "left": null,
       "margin": null,
       "max_height": null,
       "max_width": null,
       "min_height": null,
       "min_width": null,
       "object_fit": null,
       "object_position": null,
       "order": null,
       "overflow": null,
       "overflow_x": null,
       "overflow_y": null,
       "padding": null,
       "right": null,
       "top": null,
       "visibility": null,
       "width": null
      }
     },
     "1d62ff7f6f5d41e085cc3367ee028986": {
      "model_module": "@jupyter-widgets/controls",
      "model_module_version": "1.5.0",
      "model_name": "HBoxModel",
      "state": {
       "_dom_classes": [],
       "_model_module": "@jupyter-widgets/controls",
       "_model_module_version": "1.5.0",
       "_model_name": "HBoxModel",
       "_view_count": null,
       "_view_module": "@jupyter-widgets/controls",
       "_view_module_version": "1.5.0",
       "_view_name": "HBoxView",
       "box_style": "",
       "children": [
        "IPY_MODEL_60c41feba4ca4188ac55cb5d166e2416",
        "IPY_MODEL_648d26b9a1e647f094f21060e00bf8d3",
        "IPY_MODEL_be0a747728024347bc9b9b19f6a4dde2"
       ],
       "layout": "IPY_MODEL_8379cab5f91d404f9a6f68709d7d5722"
      }
     },
     "1f234c0bb39142f8a491416fbe33e2e5": {
      "model_module": "@jupyter-widgets/controls",
      "model_module_version": "1.5.0",
      "model_name": "HTMLModel",
      "state": {
       "_dom_classes": [],
       "_model_module": "@jupyter-widgets/controls",
       "_model_module_version": "1.5.0",
       "_model_name": "HTMLModel",
       "_view_count": null,
       "_view_module": "@jupyter-widgets/controls",
       "_view_module_version": "1.5.0",
       "_view_name": "HTMLView",
       "description": "",
       "description_tooltip": null,
       "layout": "IPY_MODEL_e22c31678de145c99d93b52a5acac796",
       "placeholder": "​",
       "style": "IPY_MODEL_b0989551bf764089abba25bcbc38601f",
       "value": "Downloading (…)olve/main/merges.txt: 100%"
      }
     },
     "206b5b99b19a499db111fc5afc4e8344": {
      "model_module": "@jupyter-widgets/base",
      "model_module_version": "1.2.0",
      "model_name": "LayoutModel",
      "state": {
       "_model_module": "@jupyter-widgets/base",
       "_model_module_version": "1.2.0",
       "_model_name": "LayoutModel",
       "_view_count": null,
       "_view_module": "@jupyter-widgets/base",
       "_view_module_version": "1.2.0",
       "_view_name": "LayoutView",
       "align_content": null,
       "align_items": null,
       "align_self": null,
       "border": null,
       "bottom": null,
       "display": null,
       "flex": null,
       "flex_flow": null,
       "grid_area": null,
       "grid_auto_columns": null,
       "grid_auto_flow": null,
       "grid_auto_rows": null,
       "grid_column": null,
       "grid_gap": null,
       "grid_row": null,
       "grid_template_areas": null,
       "grid_template_columns": null,
       "grid_template_rows": null,
       "height": null,
       "justify_content": null,
       "justify_items": null,
       "left": null,
       "margin": null,
       "max_height": null,
       "max_width": null,
       "min_height": null,
       "min_width": null,
       "object_fit": null,
       "object_position": null,
       "order": null,
       "overflow": null,
       "overflow_x": null,
       "overflow_y": null,
       "padding": null,
       "right": null,
       "top": null,
       "visibility": null,
       "width": null
      }
     },
     "234503c25e9a49b6a74c964dfc6dd039": {
      "model_module": "@jupyter-widgets/controls",
      "model_module_version": "1.5.0",
      "model_name": "DescriptionStyleModel",
      "state": {
       "_model_module": "@jupyter-widgets/controls",
       "_model_module_version": "1.5.0",
       "_model_name": "DescriptionStyleModel",
       "_view_count": null,
       "_view_module": "@jupyter-widgets/base",
       "_view_module_version": "1.2.0",
       "_view_name": "StyleView",
       "description_width": ""
      }
     },
     "2808e46888544f3cabb5ecd3bd067472": {
      "model_module": "@jupyter-widgets/controls",
      "model_module_version": "1.5.0",
      "model_name": "FloatProgressModel",
      "state": {
       "_dom_classes": [],
       "_model_module": "@jupyter-widgets/controls",
       "_model_module_version": "1.5.0",
       "_model_name": "FloatProgressModel",
       "_view_count": null,
       "_view_module": "@jupyter-widgets/controls",
       "_view_module_version": "1.5.0",
       "_view_name": "ProgressView",
       "bar_style": "success",
       "description": "",
       "description_tooltip": null,
       "layout": "IPY_MODEL_c6d37a9ffefa4162b9de36bd7d1ba553",
       "max": 1629486723.0,
       "min": 0.0,
       "orientation": "horizontal",
       "style": "IPY_MODEL_2a2d06f8bf154ca1883a6b1c39700e8b",
       "value": 1629486723.0
      }
     },
     "2a2d06f8bf154ca1883a6b1c39700e8b": {
      "model_module": "@jupyter-widgets/controls",
      "model_module_version": "1.5.0",
      "model_name": "ProgressStyleModel",
      "state": {
       "_model_module": "@jupyter-widgets/controls",
       "_model_module_version": "1.5.0",
       "_model_name": "ProgressStyleModel",
       "_view_count": null,
       "_view_module": "@jupyter-widgets/base",
       "_view_module_version": "1.2.0",
       "_view_name": "StyleView",
       "bar_color": null,
       "description_width": ""
      }
     },
     "2fff30909940421d976b7f29081aa8ec": {
      "model_module": "@jupyter-widgets/controls",
      "model_module_version": "1.5.0",
      "model_name": "FloatProgressModel",
      "state": {
       "_dom_classes": [],
       "_model_module": "@jupyter-widgets/controls",
       "_model_module_version": "1.5.0",
       "_model_name": "FloatProgressModel",
       "_view_count": null,
       "_view_module": "@jupyter-widgets/controls",
       "_view_module_version": "1.5.0",
       "_view_name": "ProgressView",
       "bar_style": "success",
       "description": "",
       "description_tooltip": null,
       "layout": "IPY_MODEL_e6693966306e495683daea3a6b3e45a9",
       "max": 1355863.0,
       "min": 0.0,
       "orientation": "horizontal",
       "style": "IPY_MODEL_b247fa7ae5d4497085f1a3158b277adc",
       "value": 1355863.0
      }
     },
     "34b025254ef6494fab3cdc9e4b678ef2": {
      "model_module": "@jupyter-widgets/controls",
      "model_module_version": "1.5.0",
      "model_name": "HTMLModel",
      "state": {
       "_dom_classes": [],
       "_model_module": "@jupyter-widgets/controls",
       "_model_module_version": "1.5.0",
       "_model_name": "HTMLModel",
       "_view_count": null,
       "_view_module": "@jupyter-widgets/controls",
       "_view_module_version": "1.5.0",
       "_view_name": "HTMLView",
       "description": "",
       "description_tooltip": null,
       "layout": "IPY_MODEL_417fe1d940f048a2bed915ec9edff549",
       "placeholder": "​",
       "style": "IPY_MODEL_b6d41052d08e4fccbf6fac470e6468de",
       "value": " 26.0/26.0 [00:00&lt;00:00, 1.02kB/s]"
      }
     },
     "3c6d203e77c6453ebf3d05fca118ad06": {
      "model_module": "@jupyter-widgets/controls",
      "model_module_version": "1.5.0",
      "model_name": "ProgressStyleModel",
      "state": {
       "_model_module": "@jupyter-widgets/controls",
       "_model_module_version": "1.5.0",
       "_model_name": "ProgressStyleModel",
       "_view_count": null,
       "_view_module": "@jupyter-widgets/base",
       "_view_module_version": "1.2.0",
       "_view_name": "StyleView",
       "bar_color": null,
       "description_width": ""
      }
     },
     "417fe1d940f048a2bed915ec9edff549": {
      "model_module": "@jupyter-widgets/base",
      "model_module_version": "1.2.0",
      "model_name": "LayoutModel",
      "state": {
       "_model_module": "@jupyter-widgets/base",
       "_model_module_version": "1.2.0",
       "_model_name": "LayoutModel",
       "_view_count": null,
       "_view_module": "@jupyter-widgets/base",
       "_view_module_version": "1.2.0",
       "_view_name": "LayoutView",
       "align_content": null,
       "align_items": null,
       "align_self": null,
       "border": null,
       "bottom": null,
       "display": null,
       "flex": null,
       "flex_flow": null,
       "grid_area": null,
       "grid_auto_columns": null,
       "grid_auto_flow": null,
       "grid_auto_rows": null,
       "grid_column": null,
       "grid_gap": null,
       "grid_row": null,
       "grid_template_areas": null,
       "grid_template_columns": null,
       "grid_template_rows": null,
       "height": null,
       "justify_content": null,
       "justify_items": null,
       "left": null,
       "margin": null,
       "max_height": null,
       "max_width": null,
       "min_height": null,
       "min_width": null,
       "object_fit": null,
       "object_position": null,
       "order": null,
       "overflow": null,
       "overflow_x": null,
       "overflow_y": null,
       "padding": null,
       "right": null,
       "top": null,
       "visibility": null,
       "width": null
      }
     },
     "43213f91489b4f1aacd81fb36e56b941": {
      "model_module": "@jupyter-widgets/base",
      "model_module_version": "1.2.0",
      "model_name": "LayoutModel",
      "state": {
       "_model_module": "@jupyter-widgets/base",
       "_model_module_version": "1.2.0",
       "_model_name": "LayoutModel",
       "_view_count": null,
       "_view_module": "@jupyter-widgets/base",
       "_view_module_version": "1.2.0",
       "_view_name": "LayoutView",
       "align_content": null,
       "align_items": null,
       "align_self": null,
       "border": null,
       "bottom": null,
       "display": null,
       "flex": null,
       "flex_flow": null,
       "grid_area": null,
       "grid_auto_columns": null,
       "grid_auto_flow": null,
       "grid_auto_rows": null,
       "grid_column": null,
       "grid_gap": null,
       "grid_row": null,
       "grid_template_areas": null,
       "grid_template_columns": null,
       "grid_template_rows": null,
       "height": null,
       "justify_content": null,
       "justify_items": null,
       "left": null,
       "margin": null,
       "max_height": null,
       "max_width": null,
       "min_height": null,
       "min_width": null,
       "object_fit": null,
       "object_position": null,
       "order": null,
       "overflow": null,
       "overflow_x": null,
       "overflow_y": null,
       "padding": null,
       "right": null,
       "top": null,
       "visibility": null,
       "width": null
      }
     },
     "4c9398afbaf043109b9a95120dd8f479": {
      "model_module": "@jupyter-widgets/base",
      "model_module_version": "1.2.0",
      "model_name": "LayoutModel",
      "state": {
       "_model_module": "@jupyter-widgets/base",
       "_model_module_version": "1.2.0",
       "_model_name": "LayoutModel",
       "_view_count": null,
       "_view_module": "@jupyter-widgets/base",
       "_view_module_version": "1.2.0",
       "_view_name": "LayoutView",
       "align_content": null,
       "align_items": null,
       "align_self": null,
       "border": null,
       "bottom": null,
       "display": null,
       "flex": null,
       "flex_flow": null,
       "grid_area": null,
       "grid_auto_columns": null,
       "grid_auto_flow": null,
       "grid_auto_rows": null,
       "grid_column": null,
       "grid_gap": null,
       "grid_row": null,
       "grid_template_areas": null,
       "grid_template_columns": null,
       "grid_template_rows": null,
       "height": null,
       "justify_content": null,
       "justify_items": null,
       "left": null,
       "margin": null,
       "max_height": null,
       "max_width": null,
       "min_height": null,
       "min_width": null,
       "object_fit": null,
       "object_position": null,
       "order": null,
       "overflow": null,
       "overflow_x": null,
       "overflow_y": null,
       "padding": null,
       "right": null,
       "top": null,
       "visibility": null,
       "width": null
      }
     },
     "52e019d10d884000892319e0ab3addf9": {
      "model_module": "@jupyter-widgets/base",
      "model_module_version": "1.2.0",
      "model_name": "LayoutModel",
      "state": {
       "_model_module": "@jupyter-widgets/base",
       "_model_module_version": "1.2.0",
       "_model_name": "LayoutModel",
       "_view_count": null,
       "_view_module": "@jupyter-widgets/base",
       "_view_module_version": "1.2.0",
       "_view_name": "LayoutView",
       "align_content": null,
       "align_items": null,
       "align_self": null,
       "border": null,
       "bottom": null,
       "display": null,
       "flex": null,
       "flex_flow": null,
       "grid_area": null,
       "grid_auto_columns": null,
       "grid_auto_flow": null,
       "grid_auto_rows": null,
       "grid_column": null,
       "grid_gap": null,
       "grid_row": null,
       "grid_template_areas": null,
       "grid_template_columns": null,
       "grid_template_rows": null,
       "height": null,
       "justify_content": null,
       "justify_items": null,
       "left": null,
       "margin": null,
       "max_height": null,
       "max_width": null,
       "min_height": null,
       "min_width": null,
       "object_fit": null,
       "object_position": null,
       "order": null,
       "overflow": null,
       "overflow_x": null,
       "overflow_y": null,
       "padding": null,
       "right": null,
       "top": null,
       "visibility": null,
       "width": null
      }
     },
     "54ef3495ad2c4032bc9c75163515c2fa": {
      "model_module": "@jupyter-widgets/base",
      "model_module_version": "1.2.0",
      "model_name": "LayoutModel",
      "state": {
       "_model_module": "@jupyter-widgets/base",
       "_model_module_version": "1.2.0",
       "_model_name": "LayoutModel",
       "_view_count": null,
       "_view_module": "@jupyter-widgets/base",
       "_view_module_version": "1.2.0",
       "_view_name": "LayoutView",
       "align_content": null,
       "align_items": null,
       "align_self": null,
       "border": null,
       "bottom": null,
       "display": null,
       "flex": null,
       "flex_flow": null,
       "grid_area": null,
       "grid_auto_columns": null,
       "grid_auto_flow": null,
       "grid_auto_rows": null,
       "grid_column": null,
       "grid_gap": null,
       "grid_row": null,
       "grid_template_areas": null,
       "grid_template_columns": null,
       "grid_template_rows": null,
       "height": null,
       "justify_content": null,
       "justify_items": null,
       "left": null,
       "margin": null,
       "max_height": null,
       "max_width": null,
       "min_height": null,
       "min_width": null,
       "object_fit": null,
       "object_position": null,
       "order": null,
       "overflow": null,
       "overflow_x": null,
       "overflow_y": null,
       "padding": null,
       "right": null,
       "top": null,
       "visibility": null,
       "width": null
      }
     },
     "55e08facf0ea430898bcdec058453f96": {
      "model_module": "@jupyter-widgets/controls",
      "model_module_version": "1.5.0",
      "model_name": "FloatProgressModel",
      "state": {
       "_dom_classes": [],
       "_model_module": "@jupyter-widgets/controls",
       "_model_module_version": "1.5.0",
       "_model_name": "FloatProgressModel",
       "_view_count": null,
       "_view_module": "@jupyter-widgets/controls",
       "_view_module_version": "1.5.0",
       "_view_name": "ProgressView",
       "bar_style": "success",
       "description": "",
       "description_tooltip": null,
       "layout": "IPY_MODEL_206b5b99b19a499db111fc5afc4e8344",
       "max": 1154.0,
       "min": 0.0,
       "orientation": "horizontal",
       "style": "IPY_MODEL_7c6a41f30f1d407e90065e26b09459c9",
       "value": 1154.0
      }
     },
     "5776de40e9674be18b3645f360f66b4a": {
      "model_module": "@jupyter-widgets/controls",
      "model_module_version": "1.5.0",
      "model_name": "HBoxModel",
      "state": {
       "_dom_classes": [],
       "_model_module": "@jupyter-widgets/controls",
       "_model_module_version": "1.5.0",
       "_model_name": "HBoxModel",
       "_view_count": null,
       "_view_module": "@jupyter-widgets/controls",
       "_view_module_version": "1.5.0",
       "_view_name": "HBoxView",
       "box_style": "",
       "children": [
        "IPY_MODEL_965774ad24314036918e16daad9f3af7",
        "IPY_MODEL_2fff30909940421d976b7f29081aa8ec",
        "IPY_MODEL_c157cae6b9e24aaf827f875a57d62068"
       ],
       "layout": "IPY_MODEL_aa79a9e95d8b4edcbba30795d1e59661"
      }
     },
     "5990f72440bc45d1b82d67e16b8cb975": {
      "model_module": "@jupyter-widgets/controls",
      "model_module_version": "1.5.0",
      "model_name": "DescriptionStyleModel",
      "state": {
       "_model_module": "@jupyter-widgets/controls",
       "_model_module_version": "1.5.0",
       "_model_name": "DescriptionStyleModel",
       "_view_count": null,
       "_view_module": "@jupyter-widgets/base",
       "_view_module_version": "1.2.0",
       "_view_name": "StyleView",
       "description_width": ""
      }
     },
     "5de2f7afdcd84fcabb48f280f3369417": {
      "model_module": "@jupyter-widgets/controls",
      "model_module_version": "1.5.0",
      "model_name": "DescriptionStyleModel",
      "state": {
       "_model_module": "@jupyter-widgets/controls",
       "_model_module_version": "1.5.0",
       "_model_name": "DescriptionStyleModel",
       "_view_count": null,
       "_view_module": "@jupyter-widgets/base",
       "_view_module_version": "1.2.0",
       "_view_name": "StyleView",
       "description_width": ""
      }
     },
     "60c41feba4ca4188ac55cb5d166e2416": {
      "model_module": "@jupyter-widgets/controls",
      "model_module_version": "1.5.0",
      "model_name": "HTMLModel",
      "state": {
       "_dom_classes": [],
       "_model_module": "@jupyter-widgets/controls",
       "_model_module_version": "1.5.0",
       "_model_name": "HTMLModel",
       "_view_count": null,
       "_view_module": "@jupyter-widgets/controls",
       "_view_module_version": "1.5.0",
       "_view_name": "HTMLView",
       "description": "",
       "description_tooltip": null,
       "layout": "IPY_MODEL_52e019d10d884000892319e0ab3addf9",
       "placeholder": "​",
       "style": "IPY_MODEL_ca0ba576bd7b43c0b6468ae6e5ff13af",
       "value": "100%"
      }
     },
     "648d26b9a1e647f094f21060e00bf8d3": {
      "model_module": "@jupyter-widgets/controls",
      "model_module_version": "1.5.0",
      "model_name": "FloatProgressModel",
      "state": {
       "_dom_classes": [],
       "_model_module": "@jupyter-widgets/controls",
       "_model_module_version": "1.5.0",
       "_model_name": "FloatProgressModel",
       "_view_count": null,
       "_view_module": "@jupyter-widgets/controls",
       "_view_module_version": "1.5.0",
       "_view_name": "ProgressView",
       "bar_style": "success",
       "description": "",
       "description_tooltip": null,
       "layout": "IPY_MODEL_0ff0630a99974ef78741ae4830f58240",
       "max": 9.0,
       "min": 0.0,
       "orientation": "horizontal",
       "style": "IPY_MODEL_6757cb2045994f5098e43f22c5a0d575",
       "value": 9.0
      }
     },
     "6757cb2045994f5098e43f22c5a0d575": {
      "model_module": "@jupyter-widgets/controls",
      "model_module_version": "1.5.0",
      "model_name": "ProgressStyleModel",
      "state": {
       "_model_module": "@jupyter-widgets/controls",
       "_model_module_version": "1.5.0",
       "_model_name": "ProgressStyleModel",
       "_view_count": null,
       "_view_module": "@jupyter-widgets/base",
       "_view_module_version": "1.2.0",
       "_view_name": "StyleView",
       "bar_color": null,
       "description_width": ""
      }
     },
     "71164ec741864942a2f27df2f32c51cd": {
      "model_module": "@jupyter-widgets/controls",
      "model_module_version": "1.5.0",
      "model_name": "HTMLModel",
      "state": {
       "_dom_classes": [],
       "_model_module": "@jupyter-widgets/controls",
       "_model_module_version": "1.5.0",
       "_model_name": "HTMLModel",
       "_view_count": null,
       "_view_module": "@jupyter-widgets/controls",
       "_view_module_version": "1.5.0",
       "_view_name": "HTMLView",
       "description": "",
       "description_tooltip": null,
       "layout": "IPY_MODEL_b80ac54afce442ff984e7fd680a55285",
       "placeholder": "​",
       "style": "IPY_MODEL_5990f72440bc45d1b82d67e16b8cb975",
       "value": " 456k/456k [00:00&lt;00:00, 488kB/s]"
      }
     },
     "737f1435ed4d4af7bdf02ad69cf10880": {
      "model_module": "@jupyter-widgets/controls",
      "model_module_version": "1.5.0",
      "model_name": "HTMLModel",
      "state": {
       "_dom_classes": [],
       "_model_module": "@jupyter-widgets/controls",
       "_model_module_version": "1.5.0",
       "_model_name": "HTMLModel",
       "_view_count": null,
       "_view_module": "@jupyter-widgets/controls",
       "_view_module_version": "1.5.0",
       "_view_name": "HTMLView",
       "description": "",
       "description_tooltip": null,
       "layout": "IPY_MODEL_d4ca5140ff7649edb8ca114fed8a0b97",
       "placeholder": "​",
       "style": "IPY_MODEL_78c8d8a9560441d4a00747f8ecf891e7",
       "value": "Downloading (…)lve/main/config.json: 100%"
      }
     },
     "7439d6ae0bb546fb8585b20865460d79": {
      "model_module": "@jupyter-widgets/base",
      "model_module_version": "1.2.0",
      "model_name": "LayoutModel",
      "state": {
       "_model_module": "@jupyter-widgets/base",
       "_model_module_version": "1.2.0",
       "_model_name": "LayoutModel",
       "_view_count": null,
       "_view_module": "@jupyter-widgets/base",
       "_view_module_version": "1.2.0",
       "_view_name": "LayoutView",
       "align_content": null,
       "align_items": null,
       "align_self": null,
       "border": null,
       "bottom": null,
       "display": null,
       "flex": null,
       "flex_flow": null,
       "grid_area": null,
       "grid_auto_columns": null,
       "grid_auto_flow": null,
       "grid_auto_rows": null,
       "grid_column": null,
       "grid_gap": null,
       "grid_row": null,
       "grid_template_areas": null,
       "grid_template_columns": null,
       "grid_template_rows": null,
       "height": null,
       "justify_content": null,
       "justify_items": null,
       "left": null,
       "margin": null,
       "max_height": null,
       "max_width": null,
       "min_height": null,
       "min_width": null,
       "object_fit": null,
       "object_position": null,
       "order": null,
       "overflow": null,
       "overflow_x": null,
       "overflow_y": null,
       "padding": null,
       "right": null,
       "top": null,
       "visibility": null,
       "width": null
      }
     },
     "78c8d8a9560441d4a00747f8ecf891e7": {
      "model_module": "@jupyter-widgets/controls",
      "model_module_version": "1.5.0",
      "model_name": "DescriptionStyleModel",
      "state": {
       "_model_module": "@jupyter-widgets/controls",
       "_model_module_version": "1.5.0",
       "_model_name": "DescriptionStyleModel",
       "_view_count": null,
       "_view_module": "@jupyter-widgets/base",
       "_view_module_version": "1.2.0",
       "_view_name": "StyleView",
       "description_width": ""
      }
     },
     "7c6a41f30f1d407e90065e26b09459c9": {
      "model_module": "@jupyter-widgets/controls",
      "model_module_version": "1.5.0",
      "model_name": "ProgressStyleModel",
      "state": {
       "_model_module": "@jupyter-widgets/controls",
       "_model_module_version": "1.5.0",
       "_model_name": "ProgressStyleModel",
       "_view_count": null,
       "_view_module": "@jupyter-widgets/base",
       "_view_module_version": "1.2.0",
       "_view_name": "StyleView",
       "bar_color": null,
       "description_width": ""
      }
     },
     "7d3769c88df44c1fabf8375241b3dccf": {
      "model_module": "@jupyter-widgets/base",
      "model_module_version": "1.2.0",
      "model_name": "LayoutModel",
      "state": {
       "_model_module": "@jupyter-widgets/base",
       "_model_module_version": "1.2.0",
       "_model_name": "LayoutModel",
       "_view_count": null,
       "_view_module": "@jupyter-widgets/base",
       "_view_module_version": "1.2.0",
       "_view_name": "LayoutView",
       "align_content": null,
       "align_items": null,
       "align_self": null,
       "border": null,
       "bottom": null,
       "display": null,
       "flex": null,
       "flex_flow": null,
       "grid_area": null,
       "grid_auto_columns": null,
       "grid_auto_flow": null,
       "grid_auto_rows": null,
       "grid_column": null,
       "grid_gap": null,
       "grid_row": null,
       "grid_template_areas": null,
       "grid_template_columns": null,
       "grid_template_rows": null,
       "height": null,
       "justify_content": null,
       "justify_items": null,
       "left": null,
       "margin": null,
       "max_height": null,
       "max_width": null,
       "min_height": null,
       "min_width": null,
       "object_fit": null,
       "object_position": null,
       "order": null,
       "overflow": null,
       "overflow_x": null,
       "overflow_y": null,
       "padding": null,
       "right": null,
       "top": null,
       "visibility": null,
       "width": null
      }
     },
     "7ffd6a6027c3457380ebc550239a92c3": {
      "model_module": "@jupyter-widgets/controls",
      "model_module_version": "1.5.0",
      "model_name": "DescriptionStyleModel",
      "state": {
       "_model_module": "@jupyter-widgets/controls",
       "_model_module_version": "1.5.0",
       "_model_name": "DescriptionStyleModel",
       "_view_count": null,
       "_view_module": "@jupyter-widgets/base",
       "_view_module_version": "1.2.0",
       "_view_name": "StyleView",
       "description_width": ""
      }
     },
     "8379cab5f91d404f9a6f68709d7d5722": {
      "model_module": "@jupyter-widgets/base",
      "model_module_version": "1.2.0",
      "model_name": "LayoutModel",
      "state": {
       "_model_module": "@jupyter-widgets/base",
       "_model_module_version": "1.2.0",
       "_model_name": "LayoutModel",
       "_view_count": null,
       "_view_module": "@jupyter-widgets/base",
       "_view_module_version": "1.2.0",
       "_view_name": "LayoutView",
       "align_content": null,
       "align_items": null,
       "align_self": null,
       "border": null,
       "bottom": null,
       "display": null,
       "flex": null,
       "flex_flow": null,
       "grid_area": null,
       "grid_auto_columns": null,
       "grid_auto_flow": null,
       "grid_auto_rows": null,
       "grid_column": null,
       "grid_gap": null,
       "grid_row": null,
       "grid_template_areas": null,
       "grid_template_columns": null,
       "grid_template_rows": null,
       "height": null,
       "justify_content": null,
       "justify_items": null,
       "left": null,
       "margin": null,
       "max_height": null,
       "max_width": null,
       "min_height": null,
       "min_width": null,
       "object_fit": null,
       "object_position": null,
       "order": null,
       "overflow": null,
       "overflow_x": null,
       "overflow_y": null,
       "padding": null,
       "right": null,
       "top": null,
       "visibility": null,
       "width": null
      }
     },
     "85c3c441878d4586b9fe5e38d7e3c2dc": {
      "model_module": "@jupyter-widgets/controls",
      "model_module_version": "1.5.0",
      "model_name": "HBoxModel",
      "state": {
       "_dom_classes": [],
       "_model_module": "@jupyter-widgets/controls",
       "_model_module_version": "1.5.0",
       "_model_name": "HBoxModel",
       "_view_count": null,
       "_view_module": "@jupyter-widgets/controls",
       "_view_module_version": "1.5.0",
       "_view_name": "HBoxView",
       "box_style": "",
       "children": [
        "IPY_MODEL_1f234c0bb39142f8a491416fbe33e2e5",
        "IPY_MODEL_10b25419cacb49cab83bf934c7607872",
        "IPY_MODEL_71164ec741864942a2f27df2f32c51cd"
       ],
       "layout": "IPY_MODEL_8afed2153ed34330a12e5ebcfdbc3feb"
      }
     },
     "882bdcd3392e41a6a3902bf8ccfb360f": {
      "model_module": "@jupyter-widgets/base",
      "model_module_version": "1.2.0",
      "model_name": "LayoutModel",
      "state": {
       "_model_module": "@jupyter-widgets/base",
       "_model_module_version": "1.2.0",
       "_model_name": "LayoutModel",
       "_view_count": null,
       "_view_module": "@jupyter-widgets/base",
       "_view_module_version": "1.2.0",
       "_view_name": "LayoutView",
       "align_content": null,
       "align_items": null,
       "align_self": null,
       "border": null,
       "bottom": null,
       "display": null,
       "flex": null,
       "flex_flow": null,
       "grid_area": null,
       "grid_auto_columns": null,
       "grid_auto_flow": null,
       "grid_auto_rows": null,
       "grid_column": null,
       "grid_gap": null,
       "grid_row": null,
       "grid_template_areas": null,
       "grid_template_columns": null,
       "grid_template_rows": null,
       "height": null,
       "justify_content": null,
       "justify_items": null,
       "left": null,
       "margin": null,
       "max_height": null,
       "max_width": null,
       "min_height": null,
       "min_width": null,
       "object_fit": null,
       "object_position": null,
       "order": null,
       "overflow": null,
       "overflow_x": null,
       "overflow_y": null,
       "padding": null,
       "right": null,
       "top": null,
       "visibility": null,
       "width": null
      }
     },
     "8afed2153ed34330a12e5ebcfdbc3feb": {
      "model_module": "@jupyter-widgets/base",
      "model_module_version": "1.2.0",
      "model_name": "LayoutModel",
      "state": {
       "_model_module": "@jupyter-widgets/base",
       "_model_module_version": "1.2.0",
       "_model_name": "LayoutModel",
       "_view_count": null,
       "_view_module": "@jupyter-widgets/base",
       "_view_module_version": "1.2.0",
       "_view_name": "LayoutView",
       "align_content": null,
       "align_items": null,
       "align_self": null,
       "border": null,
       "bottom": null,
       "display": null,
       "flex": null,
       "flex_flow": null,
       "grid_area": null,
       "grid_auto_columns": null,
       "grid_auto_flow": null,
       "grid_auto_rows": null,
       "grid_column": null,
       "grid_gap": null,
       "grid_row": null,
       "grid_template_areas": null,
       "grid_template_columns": null,
       "grid_template_rows": null,
       "height": null,
       "justify_content": null,
       "justify_items": null,
       "left": null,
       "margin": null,
       "max_height": null,
       "max_width": null,
       "min_height": null,
       "min_width": null,
       "object_fit": null,
       "object_position": null,
       "order": null,
       "overflow": null,
       "overflow_x": null,
       "overflow_y": null,
       "padding": null,
       "right": null,
       "top": null,
       "visibility": null,
       "width": null
      }
     },
     "965774ad24314036918e16daad9f3af7": {
      "model_module": "@jupyter-widgets/controls",
      "model_module_version": "1.5.0",
      "model_name": "HTMLModel",
      "state": {
       "_dom_classes": [],
       "_model_module": "@jupyter-widgets/controls",
       "_model_module_version": "1.5.0",
       "_model_name": "HTMLModel",
       "_view_count": null,
       "_view_module": "@jupyter-widgets/controls",
       "_view_module_version": "1.5.0",
       "_view_name": "HTMLView",
       "description": "",
       "description_tooltip": null,
       "layout": "IPY_MODEL_882bdcd3392e41a6a3902bf8ccfb360f",
       "placeholder": "​",
       "style": "IPY_MODEL_7ffd6a6027c3457380ebc550239a92c3",
       "value": "Downloading (…)/main/tokenizer.json: 100%"
      }
     },
     "97569438bb8a41ad9cb1e7996fc34ed4": {
      "model_module": "@jupyter-widgets/controls",
      "model_module_version": "1.5.0",
      "model_name": "FloatProgressModel",
      "state": {
       "_dom_classes": [],
       "_model_module": "@jupyter-widgets/controls",
       "_model_module_version": "1.5.0",
       "_model_name": "FloatProgressModel",
       "_view_count": null,
       "_view_module": "@jupyter-widgets/controls",
       "_view_module_version": "1.5.0",
       "_view_name": "ProgressView",
       "bar_style": "success",
       "description": "",
       "description_tooltip": null,
       "layout": "IPY_MODEL_7439d6ae0bb546fb8585b20865460d79",
       "max": 898822.0,
       "min": 0.0,
       "orientation": "horizontal",
       "style": "IPY_MODEL_3c6d203e77c6453ebf3d05fca118ad06",
       "value": 898822.0
      }
     },
     "9ac671c5f9a44bac9886319dd36106bc": {
      "model_module": "@jupyter-widgets/controls",
      "model_module_version": "1.5.0",
      "model_name": "DescriptionStyleModel",
      "state": {
       "_model_module": "@jupyter-widgets/controls",
       "_model_module_version": "1.5.0",
       "_model_name": "DescriptionStyleModel",
       "_view_count": null,
       "_view_module": "@jupyter-widgets/base",
       "_view_module_version": "1.2.0",
       "_view_name": "StyleView",
       "description_width": ""
      }
     },
     "9b621a842be945cbb336ac534bf3f6e9": {
      "model_module": "@jupyter-widgets/controls",
      "model_module_version": "1.5.0",
      "model_name": "HTMLModel",
      "state": {
       "_dom_classes": [],
       "_model_module": "@jupyter-widgets/controls",
       "_model_module_version": "1.5.0",
       "_model_name": "HTMLModel",
       "_view_count": null,
       "_view_module": "@jupyter-widgets/controls",
       "_view_module_version": "1.5.0",
       "_view_name": "HTMLView",
       "description": "",
       "description_tooltip": null,
       "layout": "IPY_MODEL_f7e497ba101b41c0beca29d89b512282",
       "placeholder": "​",
       "style": "IPY_MODEL_0384bb3009d7417c9477ff3a0714aaf6",
       "value": "Downloading (…)okenizer_config.json: 100%"
      }
     },
     "9bbbfce8902b4abd963cd310846421ef": {
      "model_module": "@jupyter-widgets/controls",
      "model_module_version": "1.5.0",
      "model_name": "DescriptionStyleModel",
      "state": {
       "_model_module": "@jupyter-widgets/controls",
       "_model_module_version": "1.5.0",
       "_model_name": "DescriptionStyleModel",
       "_view_count": null,
       "_view_module": "@jupyter-widgets/base",
       "_view_module_version": "1.2.0",
       "_view_name": "StyleView",
       "description_width": ""
      }
     },
     "9c318d650bc6483385265bbb9c4bb3e4": {
      "model_module": "@jupyter-widgets/base",
      "model_module_version": "1.2.0",
      "model_name": "LayoutModel",
      "state": {
       "_model_module": "@jupyter-widgets/base",
       "_model_module_version": "1.2.0",
       "_model_name": "LayoutModel",
       "_view_count": null,
       "_view_module": "@jupyter-widgets/base",
       "_view_module_version": "1.2.0",
       "_view_name": "LayoutView",
       "align_content": null,
       "align_items": null,
       "align_self": null,
       "border": null,
       "bottom": null,
       "display": null,
       "flex": null,
       "flex_flow": null,
       "grid_area": null,
       "grid_auto_columns": null,
       "grid_auto_flow": null,
       "grid_auto_rows": null,
       "grid_column": null,
       "grid_gap": null,
       "grid_row": null,
       "grid_template_areas": null,
       "grid_template_columns": null,
       "grid_template_rows": null,
       "height": null,
       "justify_content": null,
       "justify_items": null,
       "left": null,
       "margin": null,
       "max_height": null,
       "max_width": null,
       "min_height": null,
       "min_width": null,
       "object_fit": null,
       "object_position": null,
       "order": null,
       "overflow": null,
       "overflow_x": null,
       "overflow_y": null,
       "padding": null,
       "right": null,
       "top": null,
       "visibility": null,
       "width": null
      }
     },
     "a2493aedd11148cb833da6fab732b3ef": {
      "model_module": "@jupyter-widgets/controls",
      "model_module_version": "1.5.0",
      "model_name": "HBoxModel",
      "state": {
       "_dom_classes": [],
       "_model_module": "@jupyter-widgets/controls",
       "_model_module_version": "1.5.0",
       "_model_name": "HBoxModel",
       "_view_count": null,
       "_view_module": "@jupyter-widgets/controls",
       "_view_module_version": "1.5.0",
       "_view_name": "HBoxView",
       "box_style": "",
       "children": [
        "IPY_MODEL_737f1435ed4d4af7bdf02ad69cf10880",
        "IPY_MODEL_55e08facf0ea430898bcdec058453f96",
        "IPY_MODEL_a80de3a343744a8a8144ec3491d1c011"
       ],
       "layout": "IPY_MODEL_4c9398afbaf043109b9a95120dd8f479"
      }
     },
     "a80de3a343744a8a8144ec3491d1c011": {
      "model_module": "@jupyter-widgets/controls",
      "model_module_version": "1.5.0",
      "model_name": "HTMLModel",
      "state": {
       "_dom_classes": [],
       "_model_module": "@jupyter-widgets/controls",
       "_model_module_version": "1.5.0",
       "_model_name": "HTMLModel",
       "_view_count": null,
       "_view_module": "@jupyter-widgets/controls",
       "_view_module_version": "1.5.0",
       "_view_name": "HTMLView",
       "description": "",
       "description_tooltip": null,
       "layout": "IPY_MODEL_b38998d4851c48dcbafd8e5d631ddca5",
       "placeholder": "​",
       "style": "IPY_MODEL_9ac671c5f9a44bac9886319dd36106bc",
       "value": " 1.15k/1.15k [00:00&lt;00:00, 40.5kB/s]"
      }
     },
     "aa79a9e95d8b4edcbba30795d1e59661": {
      "model_module": "@jupyter-widgets/base",
      "model_module_version": "1.2.0",
      "model_name": "LayoutModel",
      "state": {
       "_model_module": "@jupyter-widgets/base",
       "_model_module_version": "1.2.0",
       "_model_name": "LayoutModel",
       "_view_count": null,
       "_view_module": "@jupyter-widgets/base",
       "_view_module_version": "1.2.0",
       "_view_name": "LayoutView",
       "align_content": null,
       "align_items": null,
       "align_self": null,
       "border": null,
       "bottom": null,
       "display": null,
       "flex": null,
       "flex_flow": null,
       "grid_area": null,
       "grid_auto_columns": null,
       "grid_auto_flow": null,
       "grid_auto_rows": null,
       "grid_column": null,
       "grid_gap": null,
       "grid_row": null,
       "grid_template_areas": null,
       "grid_template_columns": null,
       "grid_template_rows": null,
       "height": null,
       "justify_content": null,
       "justify_items": null,
       "left": null,
       "margin": null,
       "max_height": null,
       "max_width": null,
       "min_height": null,
       "min_width": null,
       "object_fit": null,
       "object_position": null,
       "order": null,
       "overflow": null,
       "overflow_x": null,
       "overflow_y": null,
       "padding": null,
       "right": null,
       "top": null,
       "visibility": null,
       "width": null
      }
     },
     "ae6704de19ef4efda89136cbe4bda053": {
      "model_module": "@jupyter-widgets/controls",
      "model_module_version": "1.5.0",
      "model_name": "ProgressStyleModel",
      "state": {
       "_model_module": "@jupyter-widgets/controls",
       "_model_module_version": "1.5.0",
       "_model_name": "ProgressStyleModel",
       "_view_count": null,
       "_view_module": "@jupyter-widgets/base",
       "_view_module_version": "1.2.0",
       "_view_name": "StyleView",
       "bar_color": null,
       "description_width": ""
      }
     },
     "af366469f99447a4977a0eae2691bdf7": {
      "model_module": "@jupyter-widgets/base",
      "model_module_version": "1.2.0",
      "model_name": "LayoutModel",
      "state": {
       "_model_module": "@jupyter-widgets/base",
       "_model_module_version": "1.2.0",
       "_model_name": "LayoutModel",
       "_view_count": null,
       "_view_module": "@jupyter-widgets/base",
       "_view_module_version": "1.2.0",
       "_view_name": "LayoutView",
       "align_content": null,
       "align_items": null,
       "align_self": null,
       "border": null,
       "bottom": null,
       "display": null,
       "flex": null,
       "flex_flow": null,
       "grid_area": null,
       "grid_auto_columns": null,
       "grid_auto_flow": null,
       "grid_auto_rows": null,
       "grid_column": null,
       "grid_gap": null,
       "grid_row": null,
       "grid_template_areas": null,
       "grid_template_columns": null,
       "grid_template_rows": null,
       "height": null,
       "justify_content": null,
       "justify_items": null,
       "left": null,
       "margin": null,
       "max_height": null,
       "max_width": null,
       "min_height": null,
       "min_width": null,
       "object_fit": null,
       "object_position": null,
       "order": null,
       "overflow": null,
       "overflow_x": null,
       "overflow_y": null,
       "padding": null,
       "right": null,
       "top": null,
       "visibility": null,
       "width": null
      }
     },
     "afee8230fb8a4416a033a79f7ccce506": {
      "model_module": "@jupyter-widgets/base",
      "model_module_version": "1.2.0",
      "model_name": "LayoutModel",
      "state": {
       "_model_module": "@jupyter-widgets/base",
       "_model_module_version": "1.2.0",
       "_model_name": "LayoutModel",
       "_view_count": null,
       "_view_module": "@jupyter-widgets/base",
       "_view_module_version": "1.2.0",
       "_view_name": "LayoutView",
       "align_content": null,
       "align_items": null,
       "align_self": null,
       "border": null,
       "bottom": null,
       "display": null,
       "flex": null,
       "flex_flow": null,
       "grid_area": null,
       "grid_auto_columns": null,
       "grid_auto_flow": null,
       "grid_auto_rows": null,
       "grid_column": null,
       "grid_gap": null,
       "grid_row": null,
       "grid_template_areas": null,
       "grid_template_columns": null,
       "grid_template_rows": null,
       "height": null,
       "justify_content": null,
       "justify_items": null,
       "left": null,
       "margin": null,
       "max_height": null,
       "max_width": null,
       "min_height": null,
       "min_width": null,
       "object_fit": null,
       "object_position": null,
       "order": null,
       "overflow": null,
       "overflow_x": null,
       "overflow_y": null,
       "padding": null,
       "right": null,
       "top": null,
       "visibility": null,
       "width": null
      }
     },
     "b0989551bf764089abba25bcbc38601f": {
      "model_module": "@jupyter-widgets/controls",
      "model_module_version": "1.5.0",
      "model_name": "DescriptionStyleModel",
      "state": {
       "_model_module": "@jupyter-widgets/controls",
       "_model_module_version": "1.5.0",
       "_model_name": "DescriptionStyleModel",
       "_view_count": null,
       "_view_module": "@jupyter-widgets/base",
       "_view_module_version": "1.2.0",
       "_view_name": "StyleView",
       "description_width": ""
      }
     },
     "b247fa7ae5d4497085f1a3158b277adc": {
      "model_module": "@jupyter-widgets/controls",
      "model_module_version": "1.5.0",
      "model_name": "ProgressStyleModel",
      "state": {
       "_model_module": "@jupyter-widgets/controls",
       "_model_module_version": "1.5.0",
       "_model_name": "ProgressStyleModel",
       "_view_count": null,
       "_view_module": "@jupyter-widgets/base",
       "_view_module_version": "1.2.0",
       "_view_name": "StyleView",
       "bar_color": null,
       "description_width": ""
      }
     },
     "b38998d4851c48dcbafd8e5d631ddca5": {
      "model_module": "@jupyter-widgets/base",
      "model_module_version": "1.2.0",
      "model_name": "LayoutModel",
      "state": {
       "_model_module": "@jupyter-widgets/base",
       "_model_module_version": "1.2.0",
       "_model_name": "LayoutModel",
       "_view_count": null,
       "_view_module": "@jupyter-widgets/base",
       "_view_module_version": "1.2.0",
       "_view_name": "LayoutView",
       "align_content": null,
       "align_items": null,
       "align_self": null,
       "border": null,
       "bottom": null,
       "display": null,
       "flex": null,
       "flex_flow": null,
       "grid_area": null,
       "grid_auto_columns": null,
       "grid_auto_flow": null,
       "grid_auto_rows": null,
       "grid_column": null,
       "grid_gap": null,
       "grid_row": null,
       "grid_template_areas": null,
       "grid_template_columns": null,
       "grid_template_rows": null,
       "height": null,
       "justify_content": null,
       "justify_items": null,
       "left": null,
       "margin": null,
       "max_height": null,
       "max_width": null,
       "min_height": null,
       "min_width": null,
       "object_fit": null,
       "object_position": null,
       "order": null,
       "overflow": null,
       "overflow_x": null,
       "overflow_y": null,
       "padding": null,
       "right": null,
       "top": null,
       "visibility": null,
       "width": null
      }
     },
     "b48d693edb624792962084a94a5abd7e": {
      "model_module": "@jupyter-widgets/controls",
      "model_module_version": "1.5.0",
      "model_name": "HBoxModel",
      "state": {
       "_dom_classes": [],
       "_model_module": "@jupyter-widgets/controls",
       "_model_module_version": "1.5.0",
       "_model_name": "HBoxModel",
       "_view_count": null,
       "_view_module": "@jupyter-widgets/controls",
       "_view_module_version": "1.5.0",
       "_view_name": "HBoxView",
       "box_style": "",
       "children": [
        "IPY_MODEL_9b621a842be945cbb336ac534bf3f6e9",
        "IPY_MODEL_dfff94bb61a0441e8639c90f051ee547",
        "IPY_MODEL_34b025254ef6494fab3cdc9e4b678ef2"
       ],
       "layout": "IPY_MODEL_7d3769c88df44c1fabf8375241b3dccf"
      }
     },
     "b58bf118c7cf466cb6121eaeaaf634cb": {
      "model_module": "@jupyter-widgets/controls",
      "model_module_version": "1.5.0",
      "model_name": "HTMLModel",
      "state": {
       "_dom_classes": [],
       "_model_module": "@jupyter-widgets/controls",
       "_model_module_version": "1.5.0",
       "_model_name": "HTMLModel",
       "_view_count": null,
       "_view_module": "@jupyter-widgets/controls",
       "_view_module_version": "1.5.0",
       "_view_name": "HTMLView",
       "description": "",
       "description_tooltip": null,
       "layout": "IPY_MODEL_f9c80c1d9d50422eafb9cbd4c1e03d61",
       "placeholder": "​",
       "style": "IPY_MODEL_e5f285c3b3a44a0681c4b8e8864fbb74",
       "value": " 899k/899k [00:01&lt;00:00, 817kB/s]"
      }
     },
     "b6d41052d08e4fccbf6fac470e6468de": {
      "model_module": "@jupyter-widgets/controls",
      "model_module_version": "1.5.0",
      "model_name": "DescriptionStyleModel",
      "state": {
       "_model_module": "@jupyter-widgets/controls",
       "_model_module_version": "1.5.0",
       "_model_name": "DescriptionStyleModel",
       "_view_count": null,
       "_view_module": "@jupyter-widgets/base",
       "_view_module_version": "1.2.0",
       "_view_name": "StyleView",
       "description_width": ""
      }
     },
     "b80ac54afce442ff984e7fd680a55285": {
      "model_module": "@jupyter-widgets/base",
      "model_module_version": "1.2.0",
      "model_name": "LayoutModel",
      "state": {
       "_model_module": "@jupyter-widgets/base",
       "_model_module_version": "1.2.0",
       "_model_name": "LayoutModel",
       "_view_count": null,
       "_view_module": "@jupyter-widgets/base",
       "_view_module_version": "1.2.0",
       "_view_name": "LayoutView",
       "align_content": null,
       "align_items": null,
       "align_self": null,
       "border": null,
       "bottom": null,
       "display": null,
       "flex": null,
       "flex_flow": null,
       "grid_area": null,
       "grid_auto_columns": null,
       "grid_auto_flow": null,
       "grid_auto_rows": null,
       "grid_column": null,
       "grid_gap": null,
       "grid_row": null,
       "grid_template_areas": null,
       "grid_template_columns": null,
       "grid_template_rows": null,
       "height": null,
       "justify_content": null,
       "justify_items": null,
       "left": null,
       "margin": null,
       "max_height": null,
       "max_width": null,
       "min_height": null,
       "min_width": null,
       "object_fit": null,
       "object_position": null,
       "order": null,
       "overflow": null,
       "overflow_x": null,
       "overflow_y": null,
       "padding": null,
       "right": null,
       "top": null,
       "visibility": null,
       "width": null
      }
     },
     "b8882b38b9544005aff05b562a5a4d34": {
      "model_module": "@jupyter-widgets/base",
      "model_module_version": "1.2.0",
      "model_name": "LayoutModel",
      "state": {
       "_model_module": "@jupyter-widgets/base",
       "_model_module_version": "1.2.0",
       "_model_name": "LayoutModel",
       "_view_count": null,
       "_view_module": "@jupyter-widgets/base",
       "_view_module_version": "1.2.0",
       "_view_name": "LayoutView",
       "align_content": null,
       "align_items": null,
       "align_self": null,
       "border": null,
       "bottom": null,
       "display": null,
       "flex": null,
       "flex_flow": null,
       "grid_area": null,
       "grid_auto_columns": null,
       "grid_auto_flow": null,
       "grid_auto_rows": null,
       "grid_column": null,
       "grid_gap": null,
       "grid_row": null,
       "grid_template_areas": null,
       "grid_template_columns": null,
       "grid_template_rows": null,
       "height": null,
       "justify_content": null,
       "justify_items": null,
       "left": null,
       "margin": null,
       "max_height": null,
       "max_width": null,
       "min_height": null,
       "min_width": null,
       "object_fit": null,
       "object_position": null,
       "order": null,
       "overflow": null,
       "overflow_x": null,
       "overflow_y": null,
       "padding": null,
       "right": null,
       "top": null,
       "visibility": null,
       "width": null
      }
     },
     "b9acbe20b1dc44698f031db94ba0b617": {
      "model_module": "@jupyter-widgets/controls",
      "model_module_version": "1.5.0",
      "model_name": "HBoxModel",
      "state": {
       "_dom_classes": [],
       "_model_module": "@jupyter-widgets/controls",
       "_model_module_version": "1.5.0",
       "_model_name": "HBoxModel",
       "_view_count": null,
       "_view_module": "@jupyter-widgets/controls",
       "_view_module_version": "1.5.0",
       "_view_name": "HBoxView",
       "box_style": "",
       "children": [
        "IPY_MODEL_c3a380d7a37043049d73e60e6eddf84d",
        "IPY_MODEL_97569438bb8a41ad9cb1e7996fc34ed4",
        "IPY_MODEL_b58bf118c7cf466cb6121eaeaaf634cb"
       ],
       "layout": "IPY_MODEL_9c318d650bc6483385265bbb9c4bb3e4"
      }
     },
     "ba0efe8aaadd4fb4bff97832997e76ed": {
      "model_module": "@jupyter-widgets/controls",
      "model_module_version": "1.5.0",
      "model_name": "HTMLModel",
      "state": {
       "_dom_classes": [],
       "_model_module": "@jupyter-widgets/controls",
       "_model_module_version": "1.5.0",
       "_model_name": "HTMLModel",
       "_view_count": null,
       "_view_module": "@jupyter-widgets/controls",
       "_view_module_version": "1.5.0",
       "_view_name": "HTMLView",
       "description": "",
       "description_tooltip": null,
       "layout": "IPY_MODEL_afee8230fb8a4416a033a79f7ccce506",
       "placeholder": "​",
       "style": "IPY_MODEL_5de2f7afdcd84fcabb48f280f3369417",
       "value": "Downloading (…)&quot;pytorch_model.bin&quot;;: 100%"
      }
     },
     "bdf181eb723a4aa9bb9dc1ce64bdef65": {
      "model_module": "@jupyter-widgets/controls",
      "model_module_version": "1.5.0",
      "model_name": "DescriptionStyleModel",
      "state": {
       "_model_module": "@jupyter-widgets/controls",
       "_model_module_version": "1.5.0",
       "_model_name": "DescriptionStyleModel",
       "_view_count": null,
       "_view_module": "@jupyter-widgets/base",
       "_view_module_version": "1.2.0",
       "_view_name": "StyleView",
       "description_width": ""
      }
     },
     "be0a747728024347bc9b9b19f6a4dde2": {
      "model_module": "@jupyter-widgets/controls",
      "model_module_version": "1.5.0",
      "model_name": "HTMLModel",
      "state": {
       "_dom_classes": [],
       "_model_module": "@jupyter-widgets/controls",
       "_model_module_version": "1.5.0",
       "_model_name": "HTMLModel",
       "_view_count": null,
       "_view_module": "@jupyter-widgets/controls",
       "_view_module_version": "1.5.0",
       "_view_name": "HTMLView",
       "description": "",
       "description_tooltip": null,
       "layout": "IPY_MODEL_43213f91489b4f1aacd81fb36e56b941",
       "placeholder": "​",
       "style": "IPY_MODEL_bdf181eb723a4aa9bb9dc1ce64bdef65",
       "value": " 9/9 [00:50&lt;00:00,  5.31s/it]"
      }
     },
     "c157cae6b9e24aaf827f875a57d62068": {
      "model_module": "@jupyter-widgets/controls",
      "model_module_version": "1.5.0",
      "model_name": "HTMLModel",
      "state": {
       "_dom_classes": [],
       "_model_module": "@jupyter-widgets/controls",
       "_model_module_version": "1.5.0",
       "_model_name": "HTMLModel",
       "_view_count": null,
       "_view_module": "@jupyter-widgets/controls",
       "_view_module_version": "1.5.0",
       "_view_name": "HTMLView",
       "description": "",
       "description_tooltip": null,
       "layout": "IPY_MODEL_54ef3495ad2c4032bc9c75163515c2fa",
       "placeholder": "​",
       "style": "IPY_MODEL_9bbbfce8902b4abd963cd310846421ef",
       "value": " 1.36M/1.36M [00:01&lt;00:00, 1.21MB/s]"
      }
     },
     "c23203b8b4a34551887b5c40494b2b1b": {
      "model_module": "@jupyter-widgets/controls",
      "model_module_version": "1.5.0",
      "model_name": "HBoxModel",
      "state": {
       "_dom_classes": [],
       "_model_module": "@jupyter-widgets/controls",
       "_model_module_version": "1.5.0",
       "_model_name": "HBoxModel",
       "_view_count": null,
       "_view_module": "@jupyter-widgets/controls",
       "_view_module_version": "1.5.0",
       "_view_name": "HBoxView",
       "box_style": "",
       "children": [
        "IPY_MODEL_ba0efe8aaadd4fb4bff97832997e76ed",
        "IPY_MODEL_2808e46888544f3cabb5ecd3bd067472",
        "IPY_MODEL_fa2756895b984f0bbf6ca16626077f76"
       ],
       "layout": "IPY_MODEL_1c21f08a527a49e3b34841a2726bb09a"
      }
     },
     "c3a380d7a37043049d73e60e6eddf84d": {
      "model_module": "@jupyter-widgets/controls",
      "model_module_version": "1.5.0",
      "model_name": "HTMLModel",
      "state": {
       "_dom_classes": [],
       "_model_module": "@jupyter-widgets/controls",
       "_model_module_version": "1.5.0",
       "_model_name": "HTMLModel",
       "_view_count": null,
       "_view_module": "@jupyter-widgets/controls",
       "_view_module_version": "1.5.0",
       "_view_name": "HTMLView",
       "description": "",
       "description_tooltip": null,
       "layout": "IPY_MODEL_af366469f99447a4977a0eae2691bdf7",
       "placeholder": "​",
       "style": "IPY_MODEL_234503c25e9a49b6a74c964dfc6dd039",
       "value": "Downloading (…)olve/main/vocab.json: 100%"
      }
     },
     "c6d37a9ffefa4162b9de36bd7d1ba553": {
      "model_module": "@jupyter-widgets/base",
      "model_module_version": "1.2.0",
      "model_name": "LayoutModel",
      "state": {
       "_model_module": "@jupyter-widgets/base",
       "_model_module_version": "1.2.0",
       "_model_name": "LayoutModel",
       "_view_count": null,
       "_view_module": "@jupyter-widgets/base",
       "_view_module_version": "1.2.0",
       "_view_name": "LayoutView",
       "align_content": null,
       "align_items": null,
       "align_self": null,
       "border": null,
       "bottom": null,
       "display": null,
       "flex": null,
       "flex_flow": null,
       "grid_area": null,
       "grid_auto_columns": null,
       "grid_auto_flow": null,
       "grid_auto_rows": null,
       "grid_column": null,
       "grid_gap": null,
       "grid_row": null,
       "grid_template_areas": null,
       "grid_template_columns": null,
       "grid_template_rows": null,
       "height": null,
       "justify_content": null,
       "justify_items": null,
       "left": null,
       "margin": null,
       "max_height": null,
       "max_width": null,
       "min_height": null,
       "min_width": null,
       "object_fit": null,
       "object_position": null,
       "order": null,
       "overflow": null,
       "overflow_x": null,
       "overflow_y": null,
       "padding": null,
       "right": null,
       "top": null,
       "visibility": null,
       "width": null
      }
     },
     "ca0ba576bd7b43c0b6468ae6e5ff13af": {
      "model_module": "@jupyter-widgets/controls",
      "model_module_version": "1.5.0",
      "model_name": "DescriptionStyleModel",
      "state": {
       "_model_module": "@jupyter-widgets/controls",
       "_model_module_version": "1.5.0",
       "_model_name": "DescriptionStyleModel",
       "_view_count": null,
       "_view_module": "@jupyter-widgets/base",
       "_view_module_version": "1.2.0",
       "_view_name": "StyleView",
       "description_width": ""
      }
     },
     "d4ca5140ff7649edb8ca114fed8a0b97": {
      "model_module": "@jupyter-widgets/base",
      "model_module_version": "1.2.0",
      "model_name": "LayoutModel",
      "state": {
       "_model_module": "@jupyter-widgets/base",
       "_model_module_version": "1.2.0",
       "_model_name": "LayoutModel",
       "_view_count": null,
       "_view_module": "@jupyter-widgets/base",
       "_view_module_version": "1.2.0",
       "_view_name": "LayoutView",
       "align_content": null,
       "align_items": null,
       "align_self": null,
       "border": null,
       "bottom": null,
       "display": null,
       "flex": null,
       "flex_flow": null,
       "grid_area": null,
       "grid_auto_columns": null,
       "grid_auto_flow": null,
       "grid_auto_rows": null,
       "grid_column": null,
       "grid_gap": null,
       "grid_row": null,
       "grid_template_areas": null,
       "grid_template_columns": null,
       "grid_template_rows": null,
       "height": null,
       "justify_content": null,
       "justify_items": null,
       "left": null,
       "margin": null,
       "max_height": null,
       "max_width": null,
       "min_height": null,
       "min_width": null,
       "object_fit": null,
       "object_position": null,
       "order": null,
       "overflow": null,
       "overflow_x": null,
       "overflow_y": null,
       "padding": null,
       "right": null,
       "top": null,
       "visibility": null,
       "width": null
      }
     },
     "dfff94bb61a0441e8639c90f051ee547": {
      "model_module": "@jupyter-widgets/controls",
      "model_module_version": "1.5.0",
      "model_name": "FloatProgressModel",
      "state": {
       "_dom_classes": [],
       "_model_module": "@jupyter-widgets/controls",
       "_model_module_version": "1.5.0",
       "_model_name": "FloatProgressModel",
       "_view_count": null,
       "_view_module": "@jupyter-widgets/controls",
       "_view_module_version": "1.5.0",
       "_view_name": "ProgressView",
       "bar_style": "success",
       "description": "",
       "description_tooltip": null,
       "layout": "IPY_MODEL_eb32fb9cc684454b951551685f3c8426",
       "max": 26.0,
       "min": 0.0,
       "orientation": "horizontal",
       "style": "IPY_MODEL_ae6704de19ef4efda89136cbe4bda053",
       "value": 26.0
      }
     },
     "e22c31678de145c99d93b52a5acac796": {
      "model_module": "@jupyter-widgets/base",
      "model_module_version": "1.2.0",
      "model_name": "LayoutModel",
      "state": {
       "_model_module": "@jupyter-widgets/base",
       "_model_module_version": "1.2.0",
       "_model_name": "LayoutModel",
       "_view_count": null,
       "_view_module": "@jupyter-widgets/base",
       "_view_module_version": "1.2.0",
       "_view_name": "LayoutView",
       "align_content": null,
       "align_items": null,
       "align_self": null,
       "border": null,
       "bottom": null,
       "display": null,
       "flex": null,
       "flex_flow": null,
       "grid_area": null,
       "grid_auto_columns": null,
       "grid_auto_flow": null,
       "grid_auto_rows": null,
       "grid_column": null,
       "grid_gap": null,
       "grid_row": null,
       "grid_template_areas": null,
       "grid_template_columns": null,
       "grid_template_rows": null,
       "height": null,
       "justify_content": null,
       "justify_items": null,
       "left": null,
       "margin": null,
       "max_height": null,
       "max_width": null,
       "min_height": null,
       "min_width": null,
       "object_fit": null,
       "object_position": null,
       "order": null,
       "overflow": null,
       "overflow_x": null,
       "overflow_y": null,
       "padding": null,
       "right": null,
       "top": null,
       "visibility": null,
       "width": null
      }
     },
     "e5f285c3b3a44a0681c4b8e8864fbb74": {
      "model_module": "@jupyter-widgets/controls",
      "model_module_version": "1.5.0",
      "model_name": "DescriptionStyleModel",
      "state": {
       "_model_module": "@jupyter-widgets/controls",
       "_model_module_version": "1.5.0",
       "_model_name": "DescriptionStyleModel",
       "_view_count": null,
       "_view_module": "@jupyter-widgets/base",
       "_view_module_version": "1.2.0",
       "_view_name": "StyleView",
       "description_width": ""
      }
     },
     "e6693966306e495683daea3a6b3e45a9": {
      "model_module": "@jupyter-widgets/base",
      "model_module_version": "1.2.0",
      "model_name": "LayoutModel",
      "state": {
       "_model_module": "@jupyter-widgets/base",
       "_model_module_version": "1.2.0",
       "_model_name": "LayoutModel",
       "_view_count": null,
       "_view_module": "@jupyter-widgets/base",
       "_view_module_version": "1.2.0",
       "_view_name": "LayoutView",
       "align_content": null,
       "align_items": null,
       "align_self": null,
       "border": null,
       "bottom": null,
       "display": null,
       "flex": null,
       "flex_flow": null,
       "grid_area": null,
       "grid_auto_columns": null,
       "grid_auto_flow": null,
       "grid_auto_rows": null,
       "grid_column": null,
       "grid_gap": null,
       "grid_row": null,
       "grid_template_areas": null,
       "grid_template_columns": null,
       "grid_template_rows": null,
       "height": null,
       "justify_content": null,
       "justify_items": null,
       "left": null,
       "margin": null,
       "max_height": null,
       "max_width": null,
       "min_height": null,
       "min_width": null,
       "object_fit": null,
       "object_position": null,
       "order": null,
       "overflow": null,
       "overflow_x": null,
       "overflow_y": null,
       "padding": null,
       "right": null,
       "top": null,
       "visibility": null,
       "width": null
      }
     },
     "e67659a0268e4697b5148a72a226b156": {
      "model_module": "@jupyter-widgets/controls",
      "model_module_version": "1.5.0",
      "model_name": "DescriptionStyleModel",
      "state": {
       "_model_module": "@jupyter-widgets/controls",
       "_model_module_version": "1.5.0",
       "_model_name": "DescriptionStyleModel",
       "_view_count": null,
       "_view_module": "@jupyter-widgets/base",
       "_view_module_version": "1.2.0",
       "_view_name": "StyleView",
       "description_width": ""
      }
     },
     "eb32fb9cc684454b951551685f3c8426": {
      "model_module": "@jupyter-widgets/base",
      "model_module_version": "1.2.0",
      "model_name": "LayoutModel",
      "state": {
       "_model_module": "@jupyter-widgets/base",
       "_model_module_version": "1.2.0",
       "_model_name": "LayoutModel",
       "_view_count": null,
       "_view_module": "@jupyter-widgets/base",
       "_view_module_version": "1.2.0",
       "_view_name": "LayoutView",
       "align_content": null,
       "align_items": null,
       "align_self": null,
       "border": null,
       "bottom": null,
       "display": null,
       "flex": null,
       "flex_flow": null,
       "grid_area": null,
       "grid_auto_columns": null,
       "grid_auto_flow": null,
       "grid_auto_rows": null,
       "grid_column": null,
       "grid_gap": null,
       "grid_row": null,
       "grid_template_areas": null,
       "grid_template_columns": null,
       "grid_template_rows": null,
       "height": null,
       "justify_content": null,
       "justify_items": null,
       "left": null,
       "margin": null,
       "max_height": null,
       "max_width": null,
       "min_height": null,
       "min_width": null,
       "object_fit": null,
       "object_position": null,
       "order": null,
       "overflow": null,
       "overflow_x": null,
       "overflow_y": null,
       "padding": null,
       "right": null,
       "top": null,
       "visibility": null,
       "width": null
      }
     },
     "f7e497ba101b41c0beca29d89b512282": {
      "model_module": "@jupyter-widgets/base",
      "model_module_version": "1.2.0",
      "model_name": "LayoutModel",
      "state": {
       "_model_module": "@jupyter-widgets/base",
       "_model_module_version": "1.2.0",
       "_model_name": "LayoutModel",
       "_view_count": null,
       "_view_module": "@jupyter-widgets/base",
       "_view_module_version": "1.2.0",
       "_view_name": "LayoutView",
       "align_content": null,
       "align_items": null,
       "align_self": null,
       "border": null,
       "bottom": null,
       "display": null,
       "flex": null,
       "flex_flow": null,
       "grid_area": null,
       "grid_auto_columns": null,
       "grid_auto_flow": null,
       "grid_auto_rows": null,
       "grid_column": null,
       "grid_gap": null,
       "grid_row": null,
       "grid_template_areas": null,
       "grid_template_columns": null,
       "grid_template_rows": null,
       "height": null,
       "justify_content": null,
       "justify_items": null,
       "left": null,
       "margin": null,
       "max_height": null,
       "max_width": null,
       "min_height": null,
       "min_width": null,
       "object_fit": null,
       "object_position": null,
       "order": null,
       "overflow": null,
       "overflow_x": null,
       "overflow_y": null,
       "padding": null,
       "right": null,
       "top": null,
       "visibility": null,
       "width": null
      }
     },
     "f9c80c1d9d50422eafb9cbd4c1e03d61": {
      "model_module": "@jupyter-widgets/base",
      "model_module_version": "1.2.0",
      "model_name": "LayoutModel",
      "state": {
       "_model_module": "@jupyter-widgets/base",
       "_model_module_version": "1.2.0",
       "_model_name": "LayoutModel",
       "_view_count": null,
       "_view_module": "@jupyter-widgets/base",
       "_view_module_version": "1.2.0",
       "_view_name": "LayoutView",
       "align_content": null,
       "align_items": null,
       "align_self": null,
       "border": null,
       "bottom": null,
       "display": null,
       "flex": null,
       "flex_flow": null,
       "grid_area": null,
       "grid_auto_columns": null,
       "grid_auto_flow": null,
       "grid_auto_rows": null,
       "grid_column": null,
       "grid_gap": null,
       "grid_row": null,
       "grid_template_areas": null,
       "grid_template_columns": null,
       "grid_template_rows": null,
       "height": null,
       "justify_content": null,
       "justify_items": null,
       "left": null,
       "margin": null,
       "max_height": null,
       "max_width": null,
       "min_height": null,
       "min_width": null,
       "object_fit": null,
       "object_position": null,
       "order": null,
       "overflow": null,
       "overflow_x": null,
       "overflow_y": null,
       "padding": null,
       "right": null,
       "top": null,
       "visibility": null,
       "width": null
      }
     },
     "fa2756895b984f0bbf6ca16626077f76": {
      "model_module": "@jupyter-widgets/controls",
      "model_module_version": "1.5.0",
      "model_name": "HTMLModel",
      "state": {
       "_dom_classes": [],
       "_model_module": "@jupyter-widgets/controls",
       "_model_module_version": "1.5.0",
       "_model_name": "HTMLModel",
       "_view_count": null,
       "_view_module": "@jupyter-widgets/controls",
       "_view_module_version": "1.5.0",
       "_view_name": "HTMLView",
       "description": "",
       "description_tooltip": null,
       "layout": "IPY_MODEL_b8882b38b9544005aff05b562a5a4d34",
       "placeholder": "​",
       "style": "IPY_MODEL_e67659a0268e4697b5148a72a226b156",
       "value": " 1.63G/1.63G [01:09&lt;00:00, 23.7MB/s]"
      }
     }
    },
    "version_major": 2,
    "version_minor": 0
   }
  }
 },
 "nbformat": 4,
 "nbformat_minor": 5
}
